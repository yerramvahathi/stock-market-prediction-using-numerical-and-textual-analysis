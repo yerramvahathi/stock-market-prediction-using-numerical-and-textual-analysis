{
 "cells": [
  {
   "cell_type": "markdown",
   "metadata": {},
   "source": [
    "# THE SPARKS FOUNDATION"
   ]
  },
  {
   "cell_type": "markdown",
   "metadata": {},
   "source": [
    "## NAME:YERRAM VAHATHI"
   ]
  },
  {
   "cell_type": "markdown",
   "metadata": {},
   "source": [
    "### Data Science and Business Analytics\n"
   ]
  },
  {
   "cell_type": "markdown",
   "metadata": {},
   "source": [
    "### TASK 7: Stock Market Prediction using Numerical and Textual Analysis"
   ]
  },
  {
   "cell_type": "markdown",
   "metadata": {},
   "source": [
    "#### OBJECTIVE:Create a hybrid model for stock price/performace prediction using numerical analysis of historical stock prices,and sentimental analysis of news headlines"
   ]
  },
  {
   "cell_type": "markdown",
   "metadata": {},
   "source": [
    "## STOCK MARKET PREDICTION USING NUMERICAL AND TEXTUAL ANALYSIS"
   ]
  },
  {
   "cell_type": "code",
   "execution_count": 140,
   "metadata": {
    "id": "QP5mP7pweX5s"
   },
   "outputs": [],
   "source": [
    "import pandas as pd\n",
    "import numpy as np\n",
    "import matplotlib.pyplot as plt\n",
    "import seaborn as sns"
   ]
  },
  {
   "cell_type": "code",
   "execution_count": 141,
   "metadata": {
    "id": "Bk8sTU5Ef2vw"
   },
   "outputs": [],
   "source": [
    "df1=pd.read_csv(\"india-news-headlines.csv\")"
   ]
  },
  {
   "cell_type": "code",
   "execution_count": 142,
   "metadata": {
    "colab": {
     "base_uri": "https://localhost:8080/",
     "height": 206
    },
    "id": "4MfrP6kagjUR",
    "outputId": "53be2e89-44b8-408d-fb76-dc10d41b3160"
   },
   "outputs": [
    {
     "data": {
      "text/html": [
       "<div>\n",
       "<style scoped>\n",
       "    .dataframe tbody tr th:only-of-type {\n",
       "        vertical-align: middle;\n",
       "    }\n",
       "\n",
       "    .dataframe tbody tr th {\n",
       "        vertical-align: top;\n",
       "    }\n",
       "\n",
       "    .dataframe thead th {\n",
       "        text-align: right;\n",
       "    }\n",
       "</style>\n",
       "<table border=\"1\" class=\"dataframe\">\n",
       "  <thead>\n",
       "    <tr style=\"text-align: right;\">\n",
       "      <th></th>\n",
       "      <th>publish_date</th>\n",
       "      <th>headline_category</th>\n",
       "      <th>headline_text</th>\n",
       "    </tr>\n",
       "  </thead>\n",
       "  <tbody>\n",
       "    <tr>\n",
       "      <th>0</th>\n",
       "      <td>20010102</td>\n",
       "      <td>unknown</td>\n",
       "      <td>Status quo will not be disturbed at Ayodhya; s...</td>\n",
       "    </tr>\n",
       "    <tr>\n",
       "      <th>1</th>\n",
       "      <td>20010102</td>\n",
       "      <td>unknown</td>\n",
       "      <td>Fissures in Hurriyat over Pak visit</td>\n",
       "    </tr>\n",
       "    <tr>\n",
       "      <th>2</th>\n",
       "      <td>20010102</td>\n",
       "      <td>unknown</td>\n",
       "      <td>America's unwanted heading for India?</td>\n",
       "    </tr>\n",
       "    <tr>\n",
       "      <th>3</th>\n",
       "      <td>20010102</td>\n",
       "      <td>unknown</td>\n",
       "      <td>For bigwigs; it is destination Goa</td>\n",
       "    </tr>\n",
       "    <tr>\n",
       "      <th>4</th>\n",
       "      <td>20010102</td>\n",
       "      <td>unknown</td>\n",
       "      <td>Extra buses to clear tourist traffic</td>\n",
       "    </tr>\n",
       "  </tbody>\n",
       "</table>\n",
       "</div>"
      ],
      "text/plain": [
       "   publish_date headline_category  \\\n",
       "0      20010102           unknown   \n",
       "1      20010102           unknown   \n",
       "2      20010102           unknown   \n",
       "3      20010102           unknown   \n",
       "4      20010102           unknown   \n",
       "\n",
       "                                       headline_text  \n",
       "0  Status quo will not be disturbed at Ayodhya; s...  \n",
       "1                Fissures in Hurriyat over Pak visit  \n",
       "2              America's unwanted heading for India?  \n",
       "3                 For bigwigs; it is destination Goa  \n",
       "4               Extra buses to clear tourist traffic  "
      ]
     },
     "execution_count": 142,
     "metadata": {},
     "output_type": "execute_result"
    }
   ],
   "source": [
    "df1.head()"
   ]
  },
  {
   "cell_type": "code",
   "execution_count": 143,
   "metadata": {
    "colab": {
     "base_uri": "https://localhost:8080/"
    },
    "id": "pXzyTvFhlD96",
    "outputId": "65865362-9bf8-44b8-ba80-255aa9f6f80a"
   },
   "outputs": [
    {
     "name": "stdout",
     "output_type": "stream",
     "text": [
      "<class 'pandas.core.frame.DataFrame'>\n",
      "RangeIndex: 3650970 entries, 0 to 3650969\n",
      "Data columns (total 3 columns):\n",
      " #   Column             Dtype \n",
      "---  ------             ----- \n",
      " 0   publish_date       int64 \n",
      " 1   headline_category  object\n",
      " 2   headline_text      object\n",
      "dtypes: int64(1), object(2)\n",
      "memory usage: 83.6+ MB\n"
     ]
    }
   ],
   "source": [
    "df1.info()"
   ]
  },
  {
   "cell_type": "code",
   "execution_count": 144,
   "metadata": {
    "colab": {
     "base_uri": "https://localhost:8080/"
    },
    "id": "uhe4ueb-lTz5",
    "outputId": "3da2ca98-5e16-4bfe-8d86-c00583ebb58c"
   },
   "outputs": [
    {
     "data": {
      "text/plain": [
       "publish_date  headline_category                  headline_text                                        \n",
       "20150817      it-services-news-wire              Amazon employees reveal company's brutal work culture    43\n",
       "20090408      unknown                            Youngest user of fairness creams is just 12              25\n",
       "                                                 Sensex slips 363 pts in early trade                      24\n",
       "20060812      unknown                            New Article                                              22\n",
       "20070321      removed                            Team India's Twenty20 initiation today                   22\n",
       "                                                                                                          ..\n",
       "20160716      entertainment.malayalam            I am freaking out on the sets of Ezra: Priya Anand        1\n",
       "              entertainment.kannada.music        5 EDM myths that need to be busted                        1\n",
       "              entertainment.kannada.movies.news  Young actresses with a penchant for comedy                1\n",
       "                                                 Sudeep pays surprise visit to Puneeth Rajkumar            1\n",
       "20010102      entertainment.hindi.bollywood      Raju Chacha                                               1\n",
       "Length: 3626110, dtype: int64"
      ]
     },
     "execution_count": 144,
     "metadata": {},
     "output_type": "execute_result"
    }
   ],
   "source": [
    "df1.value_counts()"
   ]
  },
  {
   "cell_type": "code",
   "execution_count": 145,
   "metadata": {
    "colab": {
     "base_uri": "https://localhost:8080/"
    },
    "id": "v2BmypehlaYG",
    "outputId": "6b5b1f9f-ebd5-4836-d9b5-f3400faa65d0"
   },
   "outputs": [
    {
     "data": {
      "text/plain": [
       "(3650970, 3)"
      ]
     },
     "execution_count": 145,
     "metadata": {},
     "output_type": "execute_result"
    }
   ],
   "source": [
    "df1.shape"
   ]
  },
  {
   "cell_type": "markdown",
   "metadata": {
    "id": "zSIoXnoPliRt"
   },
   "source": [
    "### Loading Textual data"
   ]
  },
  {
   "cell_type": "code",
   "execution_count": 146,
   "metadata": {
    "id": "mE1hZMD9lcp-"
   },
   "outputs": [],
   "source": [
    "df2=pd.read_csv(\"Combined_News_DJIA.csv\")"
   ]
  },
  {
   "cell_type": "code",
   "execution_count": 147,
   "metadata": {
    "colab": {
     "base_uri": "https://localhost:8080/",
     "height": 751
    },
    "id": "AkLAuxM_lt0U",
    "outputId": "104d01c6-7f99-4600-a1c0-6ef70e073105"
   },
   "outputs": [
    {
     "data": {
      "text/html": [
       "<div>\n",
       "<style scoped>\n",
       "    .dataframe tbody tr th:only-of-type {\n",
       "        vertical-align: middle;\n",
       "    }\n",
       "\n",
       "    .dataframe tbody tr th {\n",
       "        vertical-align: top;\n",
       "    }\n",
       "\n",
       "    .dataframe thead th {\n",
       "        text-align: right;\n",
       "    }\n",
       "</style>\n",
       "<table border=\"1\" class=\"dataframe\">\n",
       "  <thead>\n",
       "    <tr style=\"text-align: right;\">\n",
       "      <th></th>\n",
       "      <th>Date</th>\n",
       "      <th>Label</th>\n",
       "      <th>Top1</th>\n",
       "      <th>Top2</th>\n",
       "      <th>Top3</th>\n",
       "      <th>Top4</th>\n",
       "      <th>Top5</th>\n",
       "      <th>Top6</th>\n",
       "      <th>Top7</th>\n",
       "      <th>Top8</th>\n",
       "      <th>...</th>\n",
       "      <th>Top16</th>\n",
       "      <th>Top17</th>\n",
       "      <th>Top18</th>\n",
       "      <th>Top19</th>\n",
       "      <th>Top20</th>\n",
       "      <th>Top21</th>\n",
       "      <th>Top22</th>\n",
       "      <th>Top23</th>\n",
       "      <th>Top24</th>\n",
       "      <th>Top25</th>\n",
       "    </tr>\n",
       "  </thead>\n",
       "  <tbody>\n",
       "    <tr>\n",
       "      <th>0</th>\n",
       "      <td>2008-08-08</td>\n",
       "      <td>0</td>\n",
       "      <td>b\"Georgia 'downs two Russian warplanes' as cou...</td>\n",
       "      <td>b'BREAKING: Musharraf to be impeached.'</td>\n",
       "      <td>b'Russia Today: Columns of troops roll into So...</td>\n",
       "      <td>b'Russian tanks are moving towards the capital...</td>\n",
       "      <td>b\"Afghan children raped with 'impunity,' U.N. ...</td>\n",
       "      <td>b'150 Russian tanks have entered South Ossetia...</td>\n",
       "      <td>b\"Breaking: Georgia invades South Ossetia, Rus...</td>\n",
       "      <td>b\"The 'enemy combatent' trials are nothing but...</td>\n",
       "      <td>...</td>\n",
       "      <td>b'Georgia Invades South Ossetia - if Russia ge...</td>\n",
       "      <td>b'Al-Qaeda Faces Islamist Backlash'</td>\n",
       "      <td>b'Condoleezza Rice: \"The US would not act to p...</td>\n",
       "      <td>b'This is a busy day:  The European Union has ...</td>\n",
       "      <td>b\"Georgia will withdraw 1,000 soldiers from Ir...</td>\n",
       "      <td>b'Why the Pentagon Thinks Attacking Iran is a ...</td>\n",
       "      <td>b'Caucasus in crisis: Georgia invades South Os...</td>\n",
       "      <td>b'Indian shoe manufactory  - And again in a se...</td>\n",
       "      <td>b'Visitors Suffering from Mental Illnesses Ban...</td>\n",
       "      <td>b\"No Help for Mexico's Kidnapping Surge\"</td>\n",
       "    </tr>\n",
       "    <tr>\n",
       "      <th>1</th>\n",
       "      <td>2008-08-11</td>\n",
       "      <td>1</td>\n",
       "      <td>b'Why wont America and Nato help us? If they w...</td>\n",
       "      <td>b'Bush puts foot down on Georgian conflict'</td>\n",
       "      <td>b\"Jewish Georgian minister: Thanks to Israeli ...</td>\n",
       "      <td>b'Georgian army flees in disarray as Russians ...</td>\n",
       "      <td>b\"Olympic opening ceremony fireworks 'faked'\"</td>\n",
       "      <td>b'What were the Mossad with fraudulent New Zea...</td>\n",
       "      <td>b'Russia angered by Israeli military sale to G...</td>\n",
       "      <td>b'An American citizen living in S.Ossetia blam...</td>\n",
       "      <td>...</td>\n",
       "      <td>b'Israel and the US behind the Georgian aggres...</td>\n",
       "      <td>b'\"Do not believe TV, neither Russian nor Geor...</td>\n",
       "      <td>b'Riots are still going on in Montreal (Canada...</td>\n",
       "      <td>b'China to overtake US as largest manufacturer'</td>\n",
       "      <td>b'War in South Ossetia [PICS]'</td>\n",
       "      <td>b'Israeli Physicians Group Condemns State Tort...</td>\n",
       "      <td>b' Russia has just beaten the United States ov...</td>\n",
       "      <td>b'Perhaps *the* question about the Georgia - R...</td>\n",
       "      <td>b'Russia is so much better at war'</td>\n",
       "      <td>b\"So this is what it's come to: trading sex fo...</td>\n",
       "    </tr>\n",
       "    <tr>\n",
       "      <th>2</th>\n",
       "      <td>2008-08-12</td>\n",
       "      <td>0</td>\n",
       "      <td>b'Remember that adorable 9-year-old who sang a...</td>\n",
       "      <td>b\"Russia 'ends Georgia operation'\"</td>\n",
       "      <td>b'\"If we had no sexual harassment we would hav...</td>\n",
       "      <td>b\"Al-Qa'eda is losing support in Iraq because ...</td>\n",
       "      <td>b'Ceasefire in Georgia: Putin Outmaneuvers the...</td>\n",
       "      <td>b'Why Microsoft and Intel tried to kill the XO...</td>\n",
       "      <td>b'Stratfor: The Russo-Georgian War and the Bal...</td>\n",
       "      <td>b\"I'm Trying to Get a Sense of This Whole Geor...</td>\n",
       "      <td>...</td>\n",
       "      <td>b'U.S. troops still in Georgia (did you know t...</td>\n",
       "      <td>b'Why Russias response to Georgia was right'</td>\n",
       "      <td>b'Gorbachev accuses U.S. of making a \"serious ...</td>\n",
       "      <td>b'Russia, Georgia, and NATO: Cold War Two'</td>\n",
       "      <td>b'Remember that adorable 62-year-old who led y...</td>\n",
       "      <td>b'War in Georgia: The Israeli connection'</td>\n",
       "      <td>b'All signs point to the US encouraging Georgi...</td>\n",
       "      <td>b'Christopher King argues that the US and NATO...</td>\n",
       "      <td>b'America: The New Mexico?'</td>\n",
       "      <td>b\"BBC NEWS | Asia-Pacific | Extinction 'by man...</td>\n",
       "    </tr>\n",
       "    <tr>\n",
       "      <th>3</th>\n",
       "      <td>2008-08-13</td>\n",
       "      <td>0</td>\n",
       "      <td>b' U.S. refuses Israel weapons to attack Iran:...</td>\n",
       "      <td>b\"When the president ordered to attack Tskhinv...</td>\n",
       "      <td>b' Israel clears troops who killed Reuters cam...</td>\n",
       "      <td>b'Britain\\'s policy of being tough on drugs is...</td>\n",
       "      <td>b'Body of 14 year old found in trunk; Latest (...</td>\n",
       "      <td>b'China has moved 10 *million* quake survivors...</td>\n",
       "      <td>b\"Bush announces Operation Get All Up In Russi...</td>\n",
       "      <td>b'Russian forces sink Georgian ships '</td>\n",
       "      <td>...</td>\n",
       "      <td>b'Elephants extinct by 2020?'</td>\n",
       "      <td>b'US humanitarian missions soon in Georgia - i...</td>\n",
       "      <td>b\"Georgia's DDOS came from US sources\"</td>\n",
       "      <td>b'Russian convoy heads into Georgia, violating...</td>\n",
       "      <td>b'Israeli defence minister: US against strike ...</td>\n",
       "      <td>b'Gorbachev: We Had No Choice'</td>\n",
       "      <td>b'Witness: Russian forces head towards Tbilisi...</td>\n",
       "      <td>b' Quarter of Russians blame U.S. for conflict...</td>\n",
       "      <td>b'Georgian president  says US military will ta...</td>\n",
       "      <td>b'2006: Nobel laureate Aleksander Solzhenitsyn...</td>\n",
       "    </tr>\n",
       "    <tr>\n",
       "      <th>4</th>\n",
       "      <td>2008-08-14</td>\n",
       "      <td>1</td>\n",
       "      <td>b'All the experts admit that we should legalis...</td>\n",
       "      <td>b'War in South Osetia - 89 pictures made by a ...</td>\n",
       "      <td>b'Swedish wrestler Ara Abrahamian throws away ...</td>\n",
       "      <td>b'Russia exaggerated the death toll in South O...</td>\n",
       "      <td>b'Missile That Killed 9 Inside Pakistan May Ha...</td>\n",
       "      <td>b\"Rushdie Condemns Random House's Refusal to P...</td>\n",
       "      <td>b'Poland and US agree to missle defense deal. ...</td>\n",
       "      <td>b'Will the Russians conquer Tblisi? Bet on it,...</td>\n",
       "      <td>...</td>\n",
       "      <td>b'Bank analyst forecast Georgian crisis 2 days...</td>\n",
       "      <td>b\"Georgia confict could set back Russia's US r...</td>\n",
       "      <td>b'War in the Caucasus is as much the product o...</td>\n",
       "      <td>b'\"Non-media\" photos of South Ossetia/Georgia ...</td>\n",
       "      <td>b'Georgian TV reporter shot by Russian sniper ...</td>\n",
       "      <td>b'Saudi Arabia: Mother moves to block child ma...</td>\n",
       "      <td>b'Taliban wages war on humanitarian aid workers'</td>\n",
       "      <td>b'Russia: World  \"can forget about\" Georgia\\'s...</td>\n",
       "      <td>b'Darfur rebels accuse Sudan of mounting major...</td>\n",
       "      <td>b'Philippines : Peace Advocate say Muslims nee...</td>\n",
       "    </tr>\n",
       "  </tbody>\n",
       "</table>\n",
       "<p>5 rows × 27 columns</p>\n",
       "</div>"
      ],
      "text/plain": [
       "         Date  Label                                               Top1  \\\n",
       "0  2008-08-08      0  b\"Georgia 'downs two Russian warplanes' as cou...   \n",
       "1  2008-08-11      1  b'Why wont America and Nato help us? If they w...   \n",
       "2  2008-08-12      0  b'Remember that adorable 9-year-old who sang a...   \n",
       "3  2008-08-13      0  b' U.S. refuses Israel weapons to attack Iran:...   \n",
       "4  2008-08-14      1  b'All the experts admit that we should legalis...   \n",
       "\n",
       "                                                Top2  \\\n",
       "0            b'BREAKING: Musharraf to be impeached.'   \n",
       "1        b'Bush puts foot down on Georgian conflict'   \n",
       "2                 b\"Russia 'ends Georgia operation'\"   \n",
       "3  b\"When the president ordered to attack Tskhinv...   \n",
       "4  b'War in South Osetia - 89 pictures made by a ...   \n",
       "\n",
       "                                                Top3  \\\n",
       "0  b'Russia Today: Columns of troops roll into So...   \n",
       "1  b\"Jewish Georgian minister: Thanks to Israeli ...   \n",
       "2  b'\"If we had no sexual harassment we would hav...   \n",
       "3  b' Israel clears troops who killed Reuters cam...   \n",
       "4  b'Swedish wrestler Ara Abrahamian throws away ...   \n",
       "\n",
       "                                                Top4  \\\n",
       "0  b'Russian tanks are moving towards the capital...   \n",
       "1  b'Georgian army flees in disarray as Russians ...   \n",
       "2  b\"Al-Qa'eda is losing support in Iraq because ...   \n",
       "3  b'Britain\\'s policy of being tough on drugs is...   \n",
       "4  b'Russia exaggerated the death toll in South O...   \n",
       "\n",
       "                                                Top5  \\\n",
       "0  b\"Afghan children raped with 'impunity,' U.N. ...   \n",
       "1      b\"Olympic opening ceremony fireworks 'faked'\"   \n",
       "2  b'Ceasefire in Georgia: Putin Outmaneuvers the...   \n",
       "3  b'Body of 14 year old found in trunk; Latest (...   \n",
       "4  b'Missile That Killed 9 Inside Pakistan May Ha...   \n",
       "\n",
       "                                                Top6  \\\n",
       "0  b'150 Russian tanks have entered South Ossetia...   \n",
       "1  b'What were the Mossad with fraudulent New Zea...   \n",
       "2  b'Why Microsoft and Intel tried to kill the XO...   \n",
       "3  b'China has moved 10 *million* quake survivors...   \n",
       "4  b\"Rushdie Condemns Random House's Refusal to P...   \n",
       "\n",
       "                                                Top7  \\\n",
       "0  b\"Breaking: Georgia invades South Ossetia, Rus...   \n",
       "1  b'Russia angered by Israeli military sale to G...   \n",
       "2  b'Stratfor: The Russo-Georgian War and the Bal...   \n",
       "3  b\"Bush announces Operation Get All Up In Russi...   \n",
       "4  b'Poland and US agree to missle defense deal. ...   \n",
       "\n",
       "                                                Top8  ...  \\\n",
       "0  b\"The 'enemy combatent' trials are nothing but...  ...   \n",
       "1  b'An American citizen living in S.Ossetia blam...  ...   \n",
       "2  b\"I'm Trying to Get a Sense of This Whole Geor...  ...   \n",
       "3             b'Russian forces sink Georgian ships '  ...   \n",
       "4  b'Will the Russians conquer Tblisi? Bet on it,...  ...   \n",
       "\n",
       "                                               Top16  \\\n",
       "0  b'Georgia Invades South Ossetia - if Russia ge...   \n",
       "1  b'Israel and the US behind the Georgian aggres...   \n",
       "2  b'U.S. troops still in Georgia (did you know t...   \n",
       "3                      b'Elephants extinct by 2020?'   \n",
       "4  b'Bank analyst forecast Georgian crisis 2 days...   \n",
       "\n",
       "                                               Top17  \\\n",
       "0                b'Al-Qaeda Faces Islamist Backlash'   \n",
       "1  b'\"Do not believe TV, neither Russian nor Geor...   \n",
       "2       b'Why Russias response to Georgia was right'   \n",
       "3  b'US humanitarian missions soon in Georgia - i...   \n",
       "4  b\"Georgia confict could set back Russia's US r...   \n",
       "\n",
       "                                               Top18  \\\n",
       "0  b'Condoleezza Rice: \"The US would not act to p...   \n",
       "1  b'Riots are still going on in Montreal (Canada...   \n",
       "2  b'Gorbachev accuses U.S. of making a \"serious ...   \n",
       "3             b\"Georgia's DDOS came from US sources\"   \n",
       "4  b'War in the Caucasus is as much the product o...   \n",
       "\n",
       "                                               Top19  \\\n",
       "0  b'This is a busy day:  The European Union has ...   \n",
       "1    b'China to overtake US as largest manufacturer'   \n",
       "2         b'Russia, Georgia, and NATO: Cold War Two'   \n",
       "3  b'Russian convoy heads into Georgia, violating...   \n",
       "4  b'\"Non-media\" photos of South Ossetia/Georgia ...   \n",
       "\n",
       "                                               Top20  \\\n",
       "0  b\"Georgia will withdraw 1,000 soldiers from Ir...   \n",
       "1                     b'War in South Ossetia [PICS]'   \n",
       "2  b'Remember that adorable 62-year-old who led y...   \n",
       "3  b'Israeli defence minister: US against strike ...   \n",
       "4  b'Georgian TV reporter shot by Russian sniper ...   \n",
       "\n",
       "                                               Top21  \\\n",
       "0  b'Why the Pentagon Thinks Attacking Iran is a ...   \n",
       "1  b'Israeli Physicians Group Condemns State Tort...   \n",
       "2          b'War in Georgia: The Israeli connection'   \n",
       "3                     b'Gorbachev: We Had No Choice'   \n",
       "4  b'Saudi Arabia: Mother moves to block child ma...   \n",
       "\n",
       "                                               Top22  \\\n",
       "0  b'Caucasus in crisis: Georgia invades South Os...   \n",
       "1  b' Russia has just beaten the United States ov...   \n",
       "2  b'All signs point to the US encouraging Georgi...   \n",
       "3  b'Witness: Russian forces head towards Tbilisi...   \n",
       "4   b'Taliban wages war on humanitarian aid workers'   \n",
       "\n",
       "                                               Top23  \\\n",
       "0  b'Indian shoe manufactory  - And again in a se...   \n",
       "1  b'Perhaps *the* question about the Georgia - R...   \n",
       "2  b'Christopher King argues that the US and NATO...   \n",
       "3  b' Quarter of Russians blame U.S. for conflict...   \n",
       "4  b'Russia: World  \"can forget about\" Georgia\\'s...   \n",
       "\n",
       "                                               Top24  \\\n",
       "0  b'Visitors Suffering from Mental Illnesses Ban...   \n",
       "1                 b'Russia is so much better at war'   \n",
       "2                        b'America: The New Mexico?'   \n",
       "3  b'Georgian president  says US military will ta...   \n",
       "4  b'Darfur rebels accuse Sudan of mounting major...   \n",
       "\n",
       "                                               Top25  \n",
       "0           b\"No Help for Mexico's Kidnapping Surge\"  \n",
       "1  b\"So this is what it's come to: trading sex fo...  \n",
       "2  b\"BBC NEWS | Asia-Pacific | Extinction 'by man...  \n",
       "3  b'2006: Nobel laureate Aleksander Solzhenitsyn...  \n",
       "4  b'Philippines : Peace Advocate say Muslims nee...  \n",
       "\n",
       "[5 rows x 27 columns]"
      ]
     },
     "execution_count": 147,
     "metadata": {},
     "output_type": "execute_result"
    }
   ],
   "source": [
    "df2.head()"
   ]
  },
  {
   "cell_type": "markdown",
   "metadata": {
    "id": "U47WJJV0l6mf"
   },
   "source": [
    "### Loading Numerical data"
   ]
  },
  {
   "cell_type": "code",
   "execution_count": 148,
   "metadata": {
    "id": "nmTtlC-QlvgJ"
   },
   "outputs": [],
   "source": [
    "df3=pd.read_csv(\"upload_DJIA_table.csv\")"
   ]
  },
  {
   "cell_type": "code",
   "execution_count": 149,
   "metadata": {
    "colab": {
     "base_uri": "https://localhost:8080/",
     "height": 206
    },
    "id": "4RmOPuWMmC8R",
    "outputId": "4d948e72-ddb4-42d0-a703-21c958f45eca"
   },
   "outputs": [
    {
     "data": {
      "text/html": [
       "<div>\n",
       "<style scoped>\n",
       "    .dataframe tbody tr th:only-of-type {\n",
       "        vertical-align: middle;\n",
       "    }\n",
       "\n",
       "    .dataframe tbody tr th {\n",
       "        vertical-align: top;\n",
       "    }\n",
       "\n",
       "    .dataframe thead th {\n",
       "        text-align: right;\n",
       "    }\n",
       "</style>\n",
       "<table border=\"1\" class=\"dataframe\">\n",
       "  <thead>\n",
       "    <tr style=\"text-align: right;\">\n",
       "      <th></th>\n",
       "      <th>Date</th>\n",
       "      <th>Open</th>\n",
       "      <th>High</th>\n",
       "      <th>Low</th>\n",
       "      <th>Close</th>\n",
       "      <th>Volume</th>\n",
       "      <th>Adj Close</th>\n",
       "    </tr>\n",
       "  </thead>\n",
       "  <tbody>\n",
       "    <tr>\n",
       "      <th>0</th>\n",
       "      <td>2016-07-01</td>\n",
       "      <td>17924.240234</td>\n",
       "      <td>18002.380859</td>\n",
       "      <td>17916.910156</td>\n",
       "      <td>17949.369141</td>\n",
       "      <td>82160000</td>\n",
       "      <td>17949.369141</td>\n",
       "    </tr>\n",
       "    <tr>\n",
       "      <th>1</th>\n",
       "      <td>2016-06-30</td>\n",
       "      <td>17712.759766</td>\n",
       "      <td>17930.609375</td>\n",
       "      <td>17711.800781</td>\n",
       "      <td>17929.990234</td>\n",
       "      <td>133030000</td>\n",
       "      <td>17929.990234</td>\n",
       "    </tr>\n",
       "    <tr>\n",
       "      <th>2</th>\n",
       "      <td>2016-06-29</td>\n",
       "      <td>17456.019531</td>\n",
       "      <td>17704.509766</td>\n",
       "      <td>17456.019531</td>\n",
       "      <td>17694.679688</td>\n",
       "      <td>106380000</td>\n",
       "      <td>17694.679688</td>\n",
       "    </tr>\n",
       "    <tr>\n",
       "      <th>3</th>\n",
       "      <td>2016-06-28</td>\n",
       "      <td>17190.509766</td>\n",
       "      <td>17409.720703</td>\n",
       "      <td>17190.509766</td>\n",
       "      <td>17409.720703</td>\n",
       "      <td>112190000</td>\n",
       "      <td>17409.720703</td>\n",
       "    </tr>\n",
       "    <tr>\n",
       "      <th>4</th>\n",
       "      <td>2016-06-27</td>\n",
       "      <td>17355.210938</td>\n",
       "      <td>17355.210938</td>\n",
       "      <td>17063.080078</td>\n",
       "      <td>17140.240234</td>\n",
       "      <td>138740000</td>\n",
       "      <td>17140.240234</td>\n",
       "    </tr>\n",
       "  </tbody>\n",
       "</table>\n",
       "</div>"
      ],
      "text/plain": [
       "         Date          Open          High           Low         Close  \\\n",
       "0  2016-07-01  17924.240234  18002.380859  17916.910156  17949.369141   \n",
       "1  2016-06-30  17712.759766  17930.609375  17711.800781  17929.990234   \n",
       "2  2016-06-29  17456.019531  17704.509766  17456.019531  17694.679688   \n",
       "3  2016-06-28  17190.509766  17409.720703  17190.509766  17409.720703   \n",
       "4  2016-06-27  17355.210938  17355.210938  17063.080078  17140.240234   \n",
       "\n",
       "      Volume     Adj Close  \n",
       "0   82160000  17949.369141  \n",
       "1  133030000  17929.990234  \n",
       "2  106380000  17694.679688  \n",
       "3  112190000  17409.720703  \n",
       "4  138740000  17140.240234  "
      ]
     },
     "execution_count": 149,
     "metadata": {},
     "output_type": "execute_result"
    }
   ],
   "source": [
    "df3.head()"
   ]
  },
  {
   "cell_type": "markdown",
   "metadata": {
    "id": "Iv_f-jW7V5JA"
   },
   "source": [
    "As the top news is from 1 to 25 we will combine them into one"
   ]
  },
  {
   "cell_type": "code",
   "execution_count": 150,
   "metadata": {
    "id": "Y9_s0QP2mEkS"
   },
   "outputs": [],
   "source": [
    "#combine the top news headlines\n",
    "headlines=[]\n",
    "for row in range(0,len(df2.index)):\n",
    "  headlines.append(''.join(str(x) for x in df2.iloc[row,2:27]))"
   ]
  },
  {
   "cell_type": "code",
   "execution_count": 151,
   "metadata": {
    "colab": {
     "base_uri": "https://localhost:8080/",
     "height": 191
    },
    "id": "njNX3dyOXE5Z",
    "outputId": "a172ae0b-9605-49d6-d682-ab66cb81b73f"
   },
   "outputs": [
    {
     "data": {
      "text/plain": [
       "'b\\'Why wont America and Nato help us? If they wont help us now, why did we help them in Iraq?\\'b\\'Bush puts foot down on Georgian conflict\\'b\"Jewish Georgian minister: Thanks to Israeli training, we\\'re fending off Russia \"b\\'Georgian army flees in disarray as Russians advance - Gori abandoned to Russia without a shot fired\\'b\"Olympic opening ceremony fireworks \\'faked\\'\"b\\'What were the Mossad with fraudulent New Zealand Passports doing in Iraq?\\'b\\'Russia angered by Israeli military sale to Georgia\\'b\\'An American citizen living in S.Ossetia blames U.S. and Georgian leaders for the genocide of innocent people\\'b\\'Welcome To World War IV! Now In High Definition!\\'b\"Georgia\\'s move, a mistake of monumental proportions \"b\\'Russia presses deeper into Georgia; U.S. says regime change is goal\\'b\\'Abhinav Bindra wins first ever Individual Olympic Gold Medal for India\\'b\\' U.S. ship heads for Arctic to define territory\\'b\\'Drivers in a Jerusalem taxi station threaten to quit rather than work for their new boss - an Arab\\'b\\'The French Team is Stunned by Phelps and the 4x100m Relay Team\\'b\\'Israel and the US behind the Georgian aggression?\\'b\\'\"Do not believe TV, neither Russian nor Georgian. There are much more victims\"\\'b\\'Riots are still going on in Montreal (Canada) because police murdered a boy on Saturday.\\'b\\'China to overtake US as largest manufacturer\\'b\\'War in South Ossetia [PICS]\\'b\\'Israeli Physicians Group Condemns State Torture\\'b\\' Russia has just beaten the United States over the head with Peak Oil\\'b\\'Perhaps *the* question about the Georgia - Russia conflict \\'b\\'Russia is so much better at war\\'b\"So this is what it\\'s come to: trading sex for food.\"'"
      ]
     },
     "execution_count": 151,
     "metadata": {},
     "output_type": "execute_result"
    }
   ],
   "source": [
    "headlines[1]"
   ]
  },
  {
   "cell_type": "markdown",
   "metadata": {
    "id": "e77Nq3fEXq7t"
   },
   "source": [
    "### Now we will clean the combined headline"
   ]
  },
  {
   "cell_type": "code",
   "execution_count": 152,
   "metadata": {
    "id": "XBLWRkTrXpHU"
   },
   "outputs": [],
   "source": [
    "import re\n",
    "clean_headlines=[]\n",
    "for i in range(0,len(headlines)):\n",
    "  clean_headlines.append(re.sub(\"b[(')]+\",'',headlines[i]))\n",
    "  clean_headlines[i]=re.sub('b[(\")]+','',clean_headlines[i])\n",
    "  clean_headlines[i]=re.sub(\"\\'\",'',clean_headlines[i])"
   ]
  },
  {
   "cell_type": "code",
   "execution_count": 153,
   "metadata": {
    "colab": {
     "base_uri": "https://localhost:8080/",
     "height": 191
    },
    "id": "xSN54ZbpZWBY",
    "outputId": "a3824360-a7fc-4376-9805-3c48341da6aa"
   },
   "outputs": [
    {
     "data": {
      "text/plain": [
       "'A 117-year-old woman in Mexico City finally received her birth certificate, and died a few hours later. Trinidad Alvarez Lira had waited years for proof that she had been born in 1898.IMF chief backs Athens as permanent Olympic hostThe president of France says if Brexit won, so can Donald TrumpBritish Man Who Must Give Police 24 Hours Notice of Sex Threatens Hunger Strike: The man is the subject of a sexual risk order despite having never been convicted of a crime.100+ Nobel laureates urge Greenpeace to stop opposing GMOsBrazil: Huge spike in number of police killings in Rio ahead of OlympicsAustrias highest court annuls presidential election narrowly lost by right-wing candidate.Facebook wins privacy case, can track any Belgian it wants: Doesnt matter if Internet users are logged into Facebook or notSwitzerland denies Muslim girls citizenship after they refuse to swim with boys at school: The 12- and 14-year-old will no longer be considered for naturalised citizenship because they have not complied with the school curriculum, authorities in Basel saidChina kills millions of innocent meditators for their organs, report findsFrance Cracks Down on Factory Farms - A viral video campaign has moved the govt to act. In footage shared widely online, animals writhe in pain as they bleed to death or are dismembered, in violation of rules requiring they be rendered unconscious before slaughter.Abbas PLO Faction Calls Killer of 13-Year-Old American-Israeli Girl a MartyrTaiwanese warship accidentally fires missile towards ChinaIran celebrates American Human Rights Week, mocks U.S. rights recordU.N. panel moves to curb bias against L.G.B.T. people despite fierce resistance from Muslim and African countries.The United States has placed Myanmar, Uzbekistan, Sudan and Haiti on its list of worst human trafficking offenders.S&amp;P revises European Union credit rating to AA from AA+India gets $1 billion loan from World Bank for solar missionU.S. sailors detained by Iran spoke too much under interrogation: NavyMass fish kill in Vietnam solved as Taiwan steelmaker accepts responsibility for pollutionPhilippines president Rodrigo Duterte urges people to kill drug addicts | Duterte, 71, won power in a landslide after a campaign dominated by threats to kill tens of thousands in a war on crimeSpain arrests three Pakistanis accused of promoting militancyVenezuela, where anger over food shortages is still mounting, continued to be roiled this week by angry protests and break-ins of grocery stores and businesses that have left five dead, at least 30 injured and 200 arrested, according to various news reports.A Hindu temple worker has been killed by three men on a motorcycle, local police have said. More than 40 people have been killed in attacks blamed on Islamist militants in Bangladesh since February 2013, including secular bloggers, academics, gay rights activists and members of religious minorities.Ozone layer hole seems to be healing - US &amp; UK team shows its shrunk &amp; may slowly recover. \"If you had to have an ozone hole anywhere in the world, itd be Antarctica because its not teeming with life. It showed us if we didnt back off with these chemicals, wed have a crisis.\"'"
      ]
     },
     "execution_count": 153,
     "metadata": {},
     "output_type": "execute_result"
    }
   ],
   "source": [
    "clean_headlines[i]"
   ]
  },
  {
   "cell_type": "code",
   "execution_count": 154,
   "metadata": {
    "id": "EFjebuXuZZWn"
   },
   "outputs": [],
   "source": [
    "#Add the clean headlines to the data set\n",
    "df2['Combined_News']=clean_headlines"
   ]
  },
  {
   "cell_type": "code",
   "execution_count": 155,
   "metadata": {
    "colab": {
     "base_uri": "https://localhost:8080/",
     "height": 751
    },
    "id": "uja-TV_0Zlud",
    "outputId": "ca679357-20e7-4df7-8a56-4fe0b135ce72"
   },
   "outputs": [
    {
     "data": {
      "text/html": [
       "<div>\n",
       "<style scoped>\n",
       "    .dataframe tbody tr th:only-of-type {\n",
       "        vertical-align: middle;\n",
       "    }\n",
       "\n",
       "    .dataframe tbody tr th {\n",
       "        vertical-align: top;\n",
       "    }\n",
       "\n",
       "    .dataframe thead th {\n",
       "        text-align: right;\n",
       "    }\n",
       "</style>\n",
       "<table border=\"1\" class=\"dataframe\">\n",
       "  <thead>\n",
       "    <tr style=\"text-align: right;\">\n",
       "      <th></th>\n",
       "      <th>Date</th>\n",
       "      <th>Label</th>\n",
       "      <th>Top1</th>\n",
       "      <th>Top2</th>\n",
       "      <th>Top3</th>\n",
       "      <th>Top4</th>\n",
       "      <th>Top5</th>\n",
       "      <th>Top6</th>\n",
       "      <th>Top7</th>\n",
       "      <th>Top8</th>\n",
       "      <th>...</th>\n",
       "      <th>Top17</th>\n",
       "      <th>Top18</th>\n",
       "      <th>Top19</th>\n",
       "      <th>Top20</th>\n",
       "      <th>Top21</th>\n",
       "      <th>Top22</th>\n",
       "      <th>Top23</th>\n",
       "      <th>Top24</th>\n",
       "      <th>Top25</th>\n",
       "      <th>Combined_News</th>\n",
       "    </tr>\n",
       "  </thead>\n",
       "  <tbody>\n",
       "    <tr>\n",
       "      <th>0</th>\n",
       "      <td>2008-08-08</td>\n",
       "      <td>0</td>\n",
       "      <td>b\"Georgia 'downs two Russian warplanes' as cou...</td>\n",
       "      <td>b'BREAKING: Musharraf to be impeached.'</td>\n",
       "      <td>b'Russia Today: Columns of troops roll into So...</td>\n",
       "      <td>b'Russian tanks are moving towards the capital...</td>\n",
       "      <td>b\"Afghan children raped with 'impunity,' U.N. ...</td>\n",
       "      <td>b'150 Russian tanks have entered South Ossetia...</td>\n",
       "      <td>b\"Breaking: Georgia invades South Ossetia, Rus...</td>\n",
       "      <td>b\"The 'enemy combatent' trials are nothing but...</td>\n",
       "      <td>...</td>\n",
       "      <td>b'Al-Qaeda Faces Islamist Backlash'</td>\n",
       "      <td>b'Condoleezza Rice: \"The US would not act to p...</td>\n",
       "      <td>b'This is a busy day:  The European Union has ...</td>\n",
       "      <td>b\"Georgia will withdraw 1,000 soldiers from Ir...</td>\n",
       "      <td>b'Why the Pentagon Thinks Attacking Iran is a ...</td>\n",
       "      <td>b'Caucasus in crisis: Georgia invades South Os...</td>\n",
       "      <td>b'Indian shoe manufactory  - And again in a se...</td>\n",
       "      <td>b'Visitors Suffering from Mental Illnesses Ban...</td>\n",
       "      <td>b\"No Help for Mexico's Kidnapping Surge\"</td>\n",
       "      <td>Georgia downs two Russian warplanes as countri...</td>\n",
       "    </tr>\n",
       "    <tr>\n",
       "      <th>1</th>\n",
       "      <td>2008-08-11</td>\n",
       "      <td>1</td>\n",
       "      <td>b'Why wont America and Nato help us? If they w...</td>\n",
       "      <td>b'Bush puts foot down on Georgian conflict'</td>\n",
       "      <td>b\"Jewish Georgian minister: Thanks to Israeli ...</td>\n",
       "      <td>b'Georgian army flees in disarray as Russians ...</td>\n",
       "      <td>b\"Olympic opening ceremony fireworks 'faked'\"</td>\n",
       "      <td>b'What were the Mossad with fraudulent New Zea...</td>\n",
       "      <td>b'Russia angered by Israeli military sale to G...</td>\n",
       "      <td>b'An American citizen living in S.Ossetia blam...</td>\n",
       "      <td>...</td>\n",
       "      <td>b'\"Do not believe TV, neither Russian nor Geor...</td>\n",
       "      <td>b'Riots are still going on in Montreal (Canada...</td>\n",
       "      <td>b'China to overtake US as largest manufacturer'</td>\n",
       "      <td>b'War in South Ossetia [PICS]'</td>\n",
       "      <td>b'Israeli Physicians Group Condemns State Tort...</td>\n",
       "      <td>b' Russia has just beaten the United States ov...</td>\n",
       "      <td>b'Perhaps *the* question about the Georgia - R...</td>\n",
       "      <td>b'Russia is so much better at war'</td>\n",
       "      <td>b\"So this is what it's come to: trading sex fo...</td>\n",
       "      <td>Why wont America and Nato help us? If they won...</td>\n",
       "    </tr>\n",
       "    <tr>\n",
       "      <th>2</th>\n",
       "      <td>2008-08-12</td>\n",
       "      <td>0</td>\n",
       "      <td>b'Remember that adorable 9-year-old who sang a...</td>\n",
       "      <td>b\"Russia 'ends Georgia operation'\"</td>\n",
       "      <td>b'\"If we had no sexual harassment we would hav...</td>\n",
       "      <td>b\"Al-Qa'eda is losing support in Iraq because ...</td>\n",
       "      <td>b'Ceasefire in Georgia: Putin Outmaneuvers the...</td>\n",
       "      <td>b'Why Microsoft and Intel tried to kill the XO...</td>\n",
       "      <td>b'Stratfor: The Russo-Georgian War and the Bal...</td>\n",
       "      <td>b\"I'm Trying to Get a Sense of This Whole Geor...</td>\n",
       "      <td>...</td>\n",
       "      <td>b'Why Russias response to Georgia was right'</td>\n",
       "      <td>b'Gorbachev accuses U.S. of making a \"serious ...</td>\n",
       "      <td>b'Russia, Georgia, and NATO: Cold War Two'</td>\n",
       "      <td>b'Remember that adorable 62-year-old who led y...</td>\n",
       "      <td>b'War in Georgia: The Israeli connection'</td>\n",
       "      <td>b'All signs point to the US encouraging Georgi...</td>\n",
       "      <td>b'Christopher King argues that the US and NATO...</td>\n",
       "      <td>b'America: The New Mexico?'</td>\n",
       "      <td>b\"BBC NEWS | Asia-Pacific | Extinction 'by man...</td>\n",
       "      <td>Remember that adorable 9-year-old who sang at ...</td>\n",
       "    </tr>\n",
       "    <tr>\n",
       "      <th>3</th>\n",
       "      <td>2008-08-13</td>\n",
       "      <td>0</td>\n",
       "      <td>b' U.S. refuses Israel weapons to attack Iran:...</td>\n",
       "      <td>b\"When the president ordered to attack Tskhinv...</td>\n",
       "      <td>b' Israel clears troops who killed Reuters cam...</td>\n",
       "      <td>b'Britain\\'s policy of being tough on drugs is...</td>\n",
       "      <td>b'Body of 14 year old found in trunk; Latest (...</td>\n",
       "      <td>b'China has moved 10 *million* quake survivors...</td>\n",
       "      <td>b\"Bush announces Operation Get All Up In Russi...</td>\n",
       "      <td>b'Russian forces sink Georgian ships '</td>\n",
       "      <td>...</td>\n",
       "      <td>b'US humanitarian missions soon in Georgia - i...</td>\n",
       "      <td>b\"Georgia's DDOS came from US sources\"</td>\n",
       "      <td>b'Russian convoy heads into Georgia, violating...</td>\n",
       "      <td>b'Israeli defence minister: US against strike ...</td>\n",
       "      <td>b'Gorbachev: We Had No Choice'</td>\n",
       "      <td>b'Witness: Russian forces head towards Tbilisi...</td>\n",
       "      <td>b' Quarter of Russians blame U.S. for conflict...</td>\n",
       "      <td>b'Georgian president  says US military will ta...</td>\n",
       "      <td>b'2006: Nobel laureate Aleksander Solzhenitsyn...</td>\n",
       "      <td>U.S. refuses Israel weapons to attack Iran: r...</td>\n",
       "    </tr>\n",
       "    <tr>\n",
       "      <th>4</th>\n",
       "      <td>2008-08-14</td>\n",
       "      <td>1</td>\n",
       "      <td>b'All the experts admit that we should legalis...</td>\n",
       "      <td>b'War in South Osetia - 89 pictures made by a ...</td>\n",
       "      <td>b'Swedish wrestler Ara Abrahamian throws away ...</td>\n",
       "      <td>b'Russia exaggerated the death toll in South O...</td>\n",
       "      <td>b'Missile That Killed 9 Inside Pakistan May Ha...</td>\n",
       "      <td>b\"Rushdie Condemns Random House's Refusal to P...</td>\n",
       "      <td>b'Poland and US agree to missle defense deal. ...</td>\n",
       "      <td>b'Will the Russians conquer Tblisi? Bet on it,...</td>\n",
       "      <td>...</td>\n",
       "      <td>b\"Georgia confict could set back Russia's US r...</td>\n",
       "      <td>b'War in the Caucasus is as much the product o...</td>\n",
       "      <td>b'\"Non-media\" photos of South Ossetia/Georgia ...</td>\n",
       "      <td>b'Georgian TV reporter shot by Russian sniper ...</td>\n",
       "      <td>b'Saudi Arabia: Mother moves to block child ma...</td>\n",
       "      <td>b'Taliban wages war on humanitarian aid workers'</td>\n",
       "      <td>b'Russia: World  \"can forget about\" Georgia\\'s...</td>\n",
       "      <td>b'Darfur rebels accuse Sudan of mounting major...</td>\n",
       "      <td>b'Philippines : Peace Advocate say Muslims nee...</td>\n",
       "      <td>All the experts admit that we should legalise ...</td>\n",
       "    </tr>\n",
       "  </tbody>\n",
       "</table>\n",
       "<p>5 rows × 28 columns</p>\n",
       "</div>"
      ],
      "text/plain": [
       "         Date  Label                                               Top1  \\\n",
       "0  2008-08-08      0  b\"Georgia 'downs two Russian warplanes' as cou...   \n",
       "1  2008-08-11      1  b'Why wont America and Nato help us? If they w...   \n",
       "2  2008-08-12      0  b'Remember that adorable 9-year-old who sang a...   \n",
       "3  2008-08-13      0  b' U.S. refuses Israel weapons to attack Iran:...   \n",
       "4  2008-08-14      1  b'All the experts admit that we should legalis...   \n",
       "\n",
       "                                                Top2  \\\n",
       "0            b'BREAKING: Musharraf to be impeached.'   \n",
       "1        b'Bush puts foot down on Georgian conflict'   \n",
       "2                 b\"Russia 'ends Georgia operation'\"   \n",
       "3  b\"When the president ordered to attack Tskhinv...   \n",
       "4  b'War in South Osetia - 89 pictures made by a ...   \n",
       "\n",
       "                                                Top3  \\\n",
       "0  b'Russia Today: Columns of troops roll into So...   \n",
       "1  b\"Jewish Georgian minister: Thanks to Israeli ...   \n",
       "2  b'\"If we had no sexual harassment we would hav...   \n",
       "3  b' Israel clears troops who killed Reuters cam...   \n",
       "4  b'Swedish wrestler Ara Abrahamian throws away ...   \n",
       "\n",
       "                                                Top4  \\\n",
       "0  b'Russian tanks are moving towards the capital...   \n",
       "1  b'Georgian army flees in disarray as Russians ...   \n",
       "2  b\"Al-Qa'eda is losing support in Iraq because ...   \n",
       "3  b'Britain\\'s policy of being tough on drugs is...   \n",
       "4  b'Russia exaggerated the death toll in South O...   \n",
       "\n",
       "                                                Top5  \\\n",
       "0  b\"Afghan children raped with 'impunity,' U.N. ...   \n",
       "1      b\"Olympic opening ceremony fireworks 'faked'\"   \n",
       "2  b'Ceasefire in Georgia: Putin Outmaneuvers the...   \n",
       "3  b'Body of 14 year old found in trunk; Latest (...   \n",
       "4  b'Missile That Killed 9 Inside Pakistan May Ha...   \n",
       "\n",
       "                                                Top6  \\\n",
       "0  b'150 Russian tanks have entered South Ossetia...   \n",
       "1  b'What were the Mossad with fraudulent New Zea...   \n",
       "2  b'Why Microsoft and Intel tried to kill the XO...   \n",
       "3  b'China has moved 10 *million* quake survivors...   \n",
       "4  b\"Rushdie Condemns Random House's Refusal to P...   \n",
       "\n",
       "                                                Top7  \\\n",
       "0  b\"Breaking: Georgia invades South Ossetia, Rus...   \n",
       "1  b'Russia angered by Israeli military sale to G...   \n",
       "2  b'Stratfor: The Russo-Georgian War and the Bal...   \n",
       "3  b\"Bush announces Operation Get All Up In Russi...   \n",
       "4  b'Poland and US agree to missle defense deal. ...   \n",
       "\n",
       "                                                Top8  ...  \\\n",
       "0  b\"The 'enemy combatent' trials are nothing but...  ...   \n",
       "1  b'An American citizen living in S.Ossetia blam...  ...   \n",
       "2  b\"I'm Trying to Get a Sense of This Whole Geor...  ...   \n",
       "3             b'Russian forces sink Georgian ships '  ...   \n",
       "4  b'Will the Russians conquer Tblisi? Bet on it,...  ...   \n",
       "\n",
       "                                               Top17  \\\n",
       "0                b'Al-Qaeda Faces Islamist Backlash'   \n",
       "1  b'\"Do not believe TV, neither Russian nor Geor...   \n",
       "2       b'Why Russias response to Georgia was right'   \n",
       "3  b'US humanitarian missions soon in Georgia - i...   \n",
       "4  b\"Georgia confict could set back Russia's US r...   \n",
       "\n",
       "                                               Top18  \\\n",
       "0  b'Condoleezza Rice: \"The US would not act to p...   \n",
       "1  b'Riots are still going on in Montreal (Canada...   \n",
       "2  b'Gorbachev accuses U.S. of making a \"serious ...   \n",
       "3             b\"Georgia's DDOS came from US sources\"   \n",
       "4  b'War in the Caucasus is as much the product o...   \n",
       "\n",
       "                                               Top19  \\\n",
       "0  b'This is a busy day:  The European Union has ...   \n",
       "1    b'China to overtake US as largest manufacturer'   \n",
       "2         b'Russia, Georgia, and NATO: Cold War Two'   \n",
       "3  b'Russian convoy heads into Georgia, violating...   \n",
       "4  b'\"Non-media\" photos of South Ossetia/Georgia ...   \n",
       "\n",
       "                                               Top20  \\\n",
       "0  b\"Georgia will withdraw 1,000 soldiers from Ir...   \n",
       "1                     b'War in South Ossetia [PICS]'   \n",
       "2  b'Remember that adorable 62-year-old who led y...   \n",
       "3  b'Israeli defence minister: US against strike ...   \n",
       "4  b'Georgian TV reporter shot by Russian sniper ...   \n",
       "\n",
       "                                               Top21  \\\n",
       "0  b'Why the Pentagon Thinks Attacking Iran is a ...   \n",
       "1  b'Israeli Physicians Group Condemns State Tort...   \n",
       "2          b'War in Georgia: The Israeli connection'   \n",
       "3                     b'Gorbachev: We Had No Choice'   \n",
       "4  b'Saudi Arabia: Mother moves to block child ma...   \n",
       "\n",
       "                                               Top22  \\\n",
       "0  b'Caucasus in crisis: Georgia invades South Os...   \n",
       "1  b' Russia has just beaten the United States ov...   \n",
       "2  b'All signs point to the US encouraging Georgi...   \n",
       "3  b'Witness: Russian forces head towards Tbilisi...   \n",
       "4   b'Taliban wages war on humanitarian aid workers'   \n",
       "\n",
       "                                               Top23  \\\n",
       "0  b'Indian shoe manufactory  - And again in a se...   \n",
       "1  b'Perhaps *the* question about the Georgia - R...   \n",
       "2  b'Christopher King argues that the US and NATO...   \n",
       "3  b' Quarter of Russians blame U.S. for conflict...   \n",
       "4  b'Russia: World  \"can forget about\" Georgia\\'s...   \n",
       "\n",
       "                                               Top24  \\\n",
       "0  b'Visitors Suffering from Mental Illnesses Ban...   \n",
       "1                 b'Russia is so much better at war'   \n",
       "2                        b'America: The New Mexico?'   \n",
       "3  b'Georgian president  says US military will ta...   \n",
       "4  b'Darfur rebels accuse Sudan of mounting major...   \n",
       "\n",
       "                                               Top25  \\\n",
       "0           b\"No Help for Mexico's Kidnapping Surge\"   \n",
       "1  b\"So this is what it's come to: trading sex fo...   \n",
       "2  b\"BBC NEWS | Asia-Pacific | Extinction 'by man...   \n",
       "3  b'2006: Nobel laureate Aleksander Solzhenitsyn...   \n",
       "4  b'Philippines : Peace Advocate say Muslims nee...   \n",
       "\n",
       "                                       Combined_News  \n",
       "0  Georgia downs two Russian warplanes as countri...  \n",
       "1  Why wont America and Nato help us? If they won...  \n",
       "2  Remember that adorable 9-year-old who sang at ...  \n",
       "3   U.S. refuses Israel weapons to attack Iran: r...  \n",
       "4  All the experts admit that we should legalise ...  \n",
       "\n",
       "[5 rows x 28 columns]"
      ]
     },
     "execution_count": 155,
     "metadata": {},
     "output_type": "execute_result"
    }
   ],
   "source": [
    "df2.head()"
   ]
  },
  {
   "cell_type": "code",
   "execution_count": 156,
   "metadata": {
    "colab": {
     "base_uri": "https://localhost:8080/"
    },
    "id": "J33NZz1bZp9O",
    "outputId": "c701d443-c009-4074-ee9a-2d5694795886"
   },
   "outputs": [
    {
     "name": "stdout",
     "output_type": "stream",
     "text": [
      "Index(['Date', 'Label', 'Top1', 'Top2', 'Top3', 'Top4', 'Top5', 'Top6', 'Top7',\n",
      "       'Top8', 'Top9', 'Top10', 'Top11', 'Top12', 'Top13', 'Top14', 'Top15',\n",
      "       'Top16', 'Top17', 'Top18', 'Top19', 'Top20', 'Top21', 'Top22', 'Top23',\n",
      "       'Top24', 'Top25', 'Combined_News'],\n",
      "      dtype='object')\n"
     ]
    }
   ],
   "source": [
    "print(df2.columns)"
   ]
  },
  {
   "cell_type": "code",
   "execution_count": 157,
   "metadata": {
    "colab": {
     "base_uri": "https://localhost:8080/"
    },
    "id": "3Jj4eKrgZvbG",
    "outputId": "838882f5-edb7-4630-d295-57eed58290b9"
   },
   "outputs": [
    {
     "data": {
      "text/plain": [
       "Date             0\n",
       "Label            0\n",
       "Top1             0\n",
       "Top2             0\n",
       "Top3             0\n",
       "Top4             0\n",
       "Top5             0\n",
       "Top6             0\n",
       "Top7             0\n",
       "Top8             0\n",
       "Top9             0\n",
       "Top10            0\n",
       "Top11            0\n",
       "Top12            0\n",
       "Top13            0\n",
       "Top14            0\n",
       "Top15            0\n",
       "Top16            0\n",
       "Top17            0\n",
       "Top18            0\n",
       "Top19            0\n",
       "Top20            0\n",
       "Top21            0\n",
       "Top22            0\n",
       "Top23            1\n",
       "Top24            3\n",
       "Top25            3\n",
       "Combined_News    0\n",
       "dtype: int64"
      ]
     },
     "execution_count": 157,
     "metadata": {},
     "output_type": "execute_result"
    }
   ],
   "source": [
    "#checking for null values\n",
    "df2.isnull().sum()"
   ]
  },
  {
   "cell_type": "code",
   "execution_count": 158,
   "metadata": {
    "id": "iVLgEfC1Z3Du"
   },
   "outputs": [],
   "source": [
    "all_headlines=''.join(df2['Combined_News'].str.lower())"
   ]
  },
  {
   "cell_type": "code",
   "execution_count": 159,
   "metadata": {
    "colab": {
     "base_uri": "https://localhost:8080/",
     "height": 283
    },
    "id": "SR5A_GGaa9vv",
    "outputId": "3539258a-b118-4aea-bcc8-f43283cf102e"
   },
   "outputs": [
    {
     "data": {
      "image/png": "[encoded data removed]",
      "text/plain": [
       "<Figure size 432x288 with 1 Axes>"
      ]
     },
     "metadata": {
      "needs_background": "light"
     },
     "output_type": "display_data"
    },
    {
     "data": {
      "text/plain": [
       "<Figure size 432x288 with 0 Axes>"
      ]
     },
     "metadata": {},
     "output_type": "display_data"
    }
   ],
   "source": [
    "df2['Combined_News'].str.len().hist()\n",
    "plt.figure(figsize=(6,4))\n",
    "plt.show()"
   ]
  },
  {
   "cell_type": "markdown",
   "metadata": {
    "id": "oP7ZzFKBbQIT"
   },
   "source": [
    "### Upload DJIA_table.csv"
   ]
  },
  {
   "cell_type": "code",
   "execution_count": 160,
   "metadata": {
    "id": "cXJ9ATmNyes5"
   },
   "outputs": [],
   "source": [
    "df3=pd.read_csv(\"upload_DJIA_table.csv\")"
   ]
  },
  {
   "cell_type": "code",
   "execution_count": 161,
   "metadata": {
    "colab": {
     "base_uri": "https://localhost:8080/",
     "height": 206
    },
    "id": "3o0BpvTjbNl8",
    "outputId": "d65302ee-5f4a-4a2e-9bf8-ac4786fc31a2"
   },
   "outputs": [
    {
     "data": {
      "text/html": [
       "<div>\n",
       "<style scoped>\n",
       "    .dataframe tbody tr th:only-of-type {\n",
       "        vertical-align: middle;\n",
       "    }\n",
       "\n",
       "    .dataframe tbody tr th {\n",
       "        vertical-align: top;\n",
       "    }\n",
       "\n",
       "    .dataframe thead th {\n",
       "        text-align: right;\n",
       "    }\n",
       "</style>\n",
       "<table border=\"1\" class=\"dataframe\">\n",
       "  <thead>\n",
       "    <tr style=\"text-align: right;\">\n",
       "      <th></th>\n",
       "      <th>Date</th>\n",
       "      <th>Open</th>\n",
       "      <th>High</th>\n",
       "      <th>Low</th>\n",
       "      <th>Close</th>\n",
       "      <th>Volume</th>\n",
       "      <th>Adj Close</th>\n",
       "    </tr>\n",
       "  </thead>\n",
       "  <tbody>\n",
       "    <tr>\n",
       "      <th>0</th>\n",
       "      <td>2016-07-01</td>\n",
       "      <td>17924.240234</td>\n",
       "      <td>18002.380859</td>\n",
       "      <td>17916.910156</td>\n",
       "      <td>17949.369141</td>\n",
       "      <td>82160000</td>\n",
       "      <td>17949.369141</td>\n",
       "    </tr>\n",
       "    <tr>\n",
       "      <th>1</th>\n",
       "      <td>2016-06-30</td>\n",
       "      <td>17712.759766</td>\n",
       "      <td>17930.609375</td>\n",
       "      <td>17711.800781</td>\n",
       "      <td>17929.990234</td>\n",
       "      <td>133030000</td>\n",
       "      <td>17929.990234</td>\n",
       "    </tr>\n",
       "    <tr>\n",
       "      <th>2</th>\n",
       "      <td>2016-06-29</td>\n",
       "      <td>17456.019531</td>\n",
       "      <td>17704.509766</td>\n",
       "      <td>17456.019531</td>\n",
       "      <td>17694.679688</td>\n",
       "      <td>106380000</td>\n",
       "      <td>17694.679688</td>\n",
       "    </tr>\n",
       "    <tr>\n",
       "      <th>3</th>\n",
       "      <td>2016-06-28</td>\n",
       "      <td>17190.509766</td>\n",
       "      <td>17409.720703</td>\n",
       "      <td>17190.509766</td>\n",
       "      <td>17409.720703</td>\n",
       "      <td>112190000</td>\n",
       "      <td>17409.720703</td>\n",
       "    </tr>\n",
       "    <tr>\n",
       "      <th>4</th>\n",
       "      <td>2016-06-27</td>\n",
       "      <td>17355.210938</td>\n",
       "      <td>17355.210938</td>\n",
       "      <td>17063.080078</td>\n",
       "      <td>17140.240234</td>\n",
       "      <td>138740000</td>\n",
       "      <td>17140.240234</td>\n",
       "    </tr>\n",
       "  </tbody>\n",
       "</table>\n",
       "</div>"
      ],
      "text/plain": [
       "         Date          Open          High           Low         Close  \\\n",
       "0  2016-07-01  17924.240234  18002.380859  17916.910156  17949.369141   \n",
       "1  2016-06-30  17712.759766  17930.609375  17711.800781  17929.990234   \n",
       "2  2016-06-29  17456.019531  17704.509766  17456.019531  17694.679688   \n",
       "3  2016-06-28  17190.509766  17409.720703  17190.509766  17409.720703   \n",
       "4  2016-06-27  17355.210938  17355.210938  17063.080078  17140.240234   \n",
       "\n",
       "      Volume     Adj Close  \n",
       "0   82160000  17949.369141  \n",
       "1  133030000  17929.990234  \n",
       "2  106380000  17694.679688  \n",
       "3  112190000  17409.720703  \n",
       "4  138740000  17140.240234  "
      ]
     },
     "execution_count": 161,
     "metadata": {},
     "output_type": "execute_result"
    }
   ],
   "source": [
    "df3.head()"
   ]
  },
  {
   "cell_type": "code",
   "execution_count": 162,
   "metadata": {
    "colab": {
     "base_uri": "https://localhost:8080/",
     "height": 300
    },
    "id": "6yl5aA6UbbZm",
    "outputId": "026860eb-fd9a-4fa5-e3f9-b6853b19c7b4"
   },
   "outputs": [
    {
     "data": {
      "text/html": [
       "<div>\n",
       "<style scoped>\n",
       "    .dataframe tbody tr th:only-of-type {\n",
       "        vertical-align: middle;\n",
       "    }\n",
       "\n",
       "    .dataframe tbody tr th {\n",
       "        vertical-align: top;\n",
       "    }\n",
       "\n",
       "    .dataframe thead th {\n",
       "        text-align: right;\n",
       "    }\n",
       "</style>\n",
       "<table border=\"1\" class=\"dataframe\">\n",
       "  <thead>\n",
       "    <tr style=\"text-align: right;\">\n",
       "      <th></th>\n",
       "      <th>Open</th>\n",
       "      <th>High</th>\n",
       "      <th>Low</th>\n",
       "      <th>Close</th>\n",
       "      <th>Volume</th>\n",
       "      <th>Adj Close</th>\n",
       "    </tr>\n",
       "  </thead>\n",
       "  <tbody>\n",
       "    <tr>\n",
       "      <th>count</th>\n",
       "      <td>1989.000000</td>\n",
       "      <td>1989.000000</td>\n",
       "      <td>1989.000000</td>\n",
       "      <td>1989.000000</td>\n",
       "      <td>1.989000e+03</td>\n",
       "      <td>1989.000000</td>\n",
       "    </tr>\n",
       "    <tr>\n",
       "      <th>mean</th>\n",
       "      <td>13459.116048</td>\n",
       "      <td>13541.303173</td>\n",
       "      <td>13372.931728</td>\n",
       "      <td>13463.032255</td>\n",
       "      <td>1.628110e+08</td>\n",
       "      <td>13463.032255</td>\n",
       "    </tr>\n",
       "    <tr>\n",
       "      <th>std</th>\n",
       "      <td>3143.281634</td>\n",
       "      <td>3136.271725</td>\n",
       "      <td>3150.420934</td>\n",
       "      <td>3144.006996</td>\n",
       "      <td>9.392343e+07</td>\n",
       "      <td>3144.006996</td>\n",
       "    </tr>\n",
       "    <tr>\n",
       "      <th>min</th>\n",
       "      <td>6547.009766</td>\n",
       "      <td>6709.609863</td>\n",
       "      <td>6469.950195</td>\n",
       "      <td>6547.049805</td>\n",
       "      <td>8.410000e+06</td>\n",
       "      <td>6547.049805</td>\n",
       "    </tr>\n",
       "    <tr>\n",
       "      <th>25%</th>\n",
       "      <td>10907.339844</td>\n",
       "      <td>11000.980469</td>\n",
       "      <td>10824.759766</td>\n",
       "      <td>10913.379883</td>\n",
       "      <td>1.000000e+08</td>\n",
       "      <td>10913.379883</td>\n",
       "    </tr>\n",
       "    <tr>\n",
       "      <th>50%</th>\n",
       "      <td>13022.049805</td>\n",
       "      <td>13088.110352</td>\n",
       "      <td>12953.129883</td>\n",
       "      <td>13025.580078</td>\n",
       "      <td>1.351700e+08</td>\n",
       "      <td>13025.580078</td>\n",
       "    </tr>\n",
       "    <tr>\n",
       "      <th>75%</th>\n",
       "      <td>16477.699219</td>\n",
       "      <td>16550.070312</td>\n",
       "      <td>16392.769531</td>\n",
       "      <td>16478.410156</td>\n",
       "      <td>1.926000e+08</td>\n",
       "      <td>16478.410156</td>\n",
       "    </tr>\n",
       "    <tr>\n",
       "      <th>max</th>\n",
       "      <td>18315.060547</td>\n",
       "      <td>18351.359375</td>\n",
       "      <td>18272.560547</td>\n",
       "      <td>18312.390625</td>\n",
       "      <td>6.749200e+08</td>\n",
       "      <td>18312.390625</td>\n",
       "    </tr>\n",
       "  </tbody>\n",
       "</table>\n",
       "</div>"
      ],
      "text/plain": [
       "               Open          High           Low         Close        Volume  \\\n",
       "count   1989.000000   1989.000000   1989.000000   1989.000000  1.989000e+03   \n",
       "mean   13459.116048  13541.303173  13372.931728  13463.032255  1.628110e+08   \n",
       "std     3143.281634   3136.271725   3150.420934   3144.006996  9.392343e+07   \n",
       "min     6547.009766   6709.609863   6469.950195   6547.049805  8.410000e+06   \n",
       "25%    10907.339844  11000.980469  10824.759766  10913.379883  1.000000e+08   \n",
       "50%    13022.049805  13088.110352  12953.129883  13025.580078  1.351700e+08   \n",
       "75%    16477.699219  16550.070312  16392.769531  16478.410156  1.926000e+08   \n",
       "max    18315.060547  18351.359375  18272.560547  18312.390625  6.749200e+08   \n",
       "\n",
       "          Adj Close  \n",
       "count   1989.000000  \n",
       "mean   13463.032255  \n",
       "std     3144.006996  \n",
       "min     6547.049805  \n",
       "25%    10913.379883  \n",
       "50%    13025.580078  \n",
       "75%    16478.410156  \n",
       "max    18312.390625  "
      ]
     },
     "execution_count": 162,
     "metadata": {},
     "output_type": "execute_result"
    }
   ],
   "source": [
    "df3.describe()"
   ]
  },
  {
   "cell_type": "code",
   "execution_count": 163,
   "metadata": {
    "colab": {
     "base_uri": "https://localhost:8080/"
    },
    "id": "mNPnW2n3bdup",
    "outputId": "593558a9-df38-43f9-b6ee-e8eef33fbb58"
   },
   "outputs": [
    {
     "name": "stdout",
     "output_type": "stream",
     "text": [
      "<class 'pandas.core.frame.DataFrame'>\n",
      "RangeIndex: 1989 entries, 0 to 1988\n",
      "Data columns (total 7 columns):\n",
      " #   Column     Non-Null Count  Dtype  \n",
      "---  ------     --------------  -----  \n",
      " 0   Date       1989 non-null   object \n",
      " 1   Open       1989 non-null   float64\n",
      " 2   High       1989 non-null   float64\n",
      " 3   Low        1989 non-null   float64\n",
      " 4   Close      1989 non-null   float64\n",
      " 5   Volume     1989 non-null   int64  \n",
      " 6   Adj Close  1989 non-null   float64\n",
      "dtypes: float64(5), int64(1), object(1)\n",
      "memory usage: 108.9+ KB\n"
     ]
    }
   ],
   "source": [
    "df3.info()"
   ]
  },
  {
   "cell_type": "code",
   "execution_count": 164,
   "metadata": {
    "colab": {
     "base_uri": "https://localhost:8080/"
    },
    "id": "xIOgk5JmbfB6",
    "outputId": "30a81971-b463-4854-ff7a-d3bd42749586"
   },
   "outputs": [
    {
     "data": {
      "text/plain": [
       "Date         0\n",
       "Open         0\n",
       "High         0\n",
       "Low          0\n",
       "Close        0\n",
       "Volume       0\n",
       "Adj Close    0\n",
       "dtype: int64"
      ]
     },
     "execution_count": 164,
     "metadata": {},
     "output_type": "execute_result"
    }
   ],
   "source": [
    "#checking for null values\n",
    "df3.isnull().sum()"
   ]
  },
  {
   "cell_type": "markdown",
   "metadata": {
    "id": "kHVB3igYcNoz"
   },
   "source": [
    "### Visualizing the dataset"
   ]
  },
  {
   "cell_type": "code",
   "execution_count": 165,
   "metadata": {
    "colab": {
     "base_uri": "https://localhost:8080/",
     "height": 265
    },
    "id": "QcnAzz-YblMh",
    "outputId": "fb99a894-5688-4bae-fb92-02419845d638"
   },
   "outputs": [
    {
     "data": {
      "image/png": "[encoded data removed]",
      "text/plain": [
       "<Figure size 432x288 with 1 Axes>"
      ]
     },
     "metadata": {
      "needs_background": "light"
     },
     "output_type": "display_data"
    }
   ],
   "source": [
    "#stacked graph\n",
    "import numpy as np\n",
    "import matplotlib.pyplot as plt\n",
    "a,b=100,10\n",
    "x=a+b*np.random.randn(200,3)\n",
    "n,bins,patches=plt.hist(x,20,stacked=True)\n",
    "plt.show()"
   ]
  },
  {
   "cell_type": "code",
   "execution_count": 166,
   "metadata": {
    "id": "HZHYa996crD5"
   },
   "outputs": [],
   "source": [
    "#splitting data into train and valid\n",
    "train=df3[:700]\n",
    "valid=df3[700:]"
   ]
  },
  {
   "cell_type": "code",
   "execution_count": 167,
   "metadata": {
    "colab": {
     "base_uri": "https://localhost:8080/",
     "height": 206
    },
    "id": "SXf2ydPZdFLu",
    "outputId": "6b754ab0-7a20-4ce6-8bf3-eab44f1fe5d5"
   },
   "outputs": [
    {
     "data": {
      "text/html": [
       "<div>\n",
       "<style scoped>\n",
       "    .dataframe tbody tr th:only-of-type {\n",
       "        vertical-align: middle;\n",
       "    }\n",
       "\n",
       "    .dataframe tbody tr th {\n",
       "        vertical-align: top;\n",
       "    }\n",
       "\n",
       "    .dataframe thead th {\n",
       "        text-align: right;\n",
       "    }\n",
       "</style>\n",
       "<table border=\"1\" class=\"dataframe\">\n",
       "  <thead>\n",
       "    <tr style=\"text-align: right;\">\n",
       "      <th></th>\n",
       "      <th>Date</th>\n",
       "      <th>Open</th>\n",
       "      <th>High</th>\n",
       "      <th>Low</th>\n",
       "      <th>Close</th>\n",
       "      <th>Volume</th>\n",
       "      <th>Adj Close</th>\n",
       "    </tr>\n",
       "  </thead>\n",
       "  <tbody>\n",
       "    <tr>\n",
       "      <th>0</th>\n",
       "      <td>2016-07-01</td>\n",
       "      <td>17924.240234</td>\n",
       "      <td>18002.380859</td>\n",
       "      <td>17916.910156</td>\n",
       "      <td>17949.369141</td>\n",
       "      <td>82160000</td>\n",
       "      <td>17949.369141</td>\n",
       "    </tr>\n",
       "    <tr>\n",
       "      <th>1</th>\n",
       "      <td>2016-06-30</td>\n",
       "      <td>17712.759766</td>\n",
       "      <td>17930.609375</td>\n",
       "      <td>17711.800781</td>\n",
       "      <td>17929.990234</td>\n",
       "      <td>133030000</td>\n",
       "      <td>17929.990234</td>\n",
       "    </tr>\n",
       "    <tr>\n",
       "      <th>2</th>\n",
       "      <td>2016-06-29</td>\n",
       "      <td>17456.019531</td>\n",
       "      <td>17704.509766</td>\n",
       "      <td>17456.019531</td>\n",
       "      <td>17694.679688</td>\n",
       "      <td>106380000</td>\n",
       "      <td>17694.679688</td>\n",
       "    </tr>\n",
       "    <tr>\n",
       "      <th>3</th>\n",
       "      <td>2016-06-28</td>\n",
       "      <td>17190.509766</td>\n",
       "      <td>17409.720703</td>\n",
       "      <td>17190.509766</td>\n",
       "      <td>17409.720703</td>\n",
       "      <td>112190000</td>\n",
       "      <td>17409.720703</td>\n",
       "    </tr>\n",
       "    <tr>\n",
       "      <th>4</th>\n",
       "      <td>2016-06-27</td>\n",
       "      <td>17355.210938</td>\n",
       "      <td>17355.210938</td>\n",
       "      <td>17063.080078</td>\n",
       "      <td>17140.240234</td>\n",
       "      <td>138740000</td>\n",
       "      <td>17140.240234</td>\n",
       "    </tr>\n",
       "  </tbody>\n",
       "</table>\n",
       "</div>"
      ],
      "text/plain": [
       "         Date          Open          High           Low         Close  \\\n",
       "0  2016-07-01  17924.240234  18002.380859  17916.910156  17949.369141   \n",
       "1  2016-06-30  17712.759766  17930.609375  17711.800781  17929.990234   \n",
       "2  2016-06-29  17456.019531  17704.509766  17456.019531  17694.679688   \n",
       "3  2016-06-28  17190.509766  17409.720703  17190.509766  17409.720703   \n",
       "4  2016-06-27  17355.210938  17355.210938  17063.080078  17140.240234   \n",
       "\n",
       "      Volume     Adj Close  \n",
       "0   82160000  17949.369141  \n",
       "1  133030000  17929.990234  \n",
       "2  106380000  17694.679688  \n",
       "3  112190000  17409.720703  \n",
       "4  138740000  17140.240234  "
      ]
     },
     "execution_count": 167,
     "metadata": {},
     "output_type": "execute_result"
    }
   ],
   "source": [
    "train.head()"
   ]
  },
  {
   "cell_type": "code",
   "execution_count": 168,
   "metadata": {
    "id": "zMblklfCdHZT"
   },
   "outputs": [],
   "source": [
    "training=train['Close']\n",
    "validation=valid['Close']"
   ]
  },
  {
   "cell_type": "code",
   "execution_count": 169,
   "metadata": {
    "colab": {
     "base_uri": "https://localhost:8080/"
    },
    "id": "GVmes6hpdMsM",
    "outputId": "1c41a5f6-dff6-49d1-8468-612c670de458"
   },
   "outputs": [
    {
     "data": {
      "text/plain": [
       "0    17949.369141\n",
       "1    17929.990234\n",
       "2    17694.679688\n",
       "3    17409.720703\n",
       "4    17140.240234\n",
       "Name: Close, dtype: float64"
      ]
     },
     "execution_count": 169,
     "metadata": {},
     "output_type": "execute_result"
    }
   ],
   "source": [
    "training.head()"
   ]
  },
  {
   "cell_type": "markdown",
   "metadata": {
    "id": "6WEDatQtdUMf"
   },
   "source": [
    "### Using Vader model for sentiment analysis"
   ]
  },
  {
   "cell_type": "code",
   "execution_count": 170,
   "metadata": {
    "colab": {
     "base_uri": "https://localhost:8080/"
    },
    "id": "HMTZElv-dO8z",
    "outputId": "fab3568d-f4de-41a3-ad0b-b05fe59384cf"
   },
   "outputs": [
    {
     "name": "stdout",
     "output_type": "stream",
     "text": [
      "Requirement already satisfied: vaderSentiment in c:\\users\\vahathi\\anaconda3\\lib\\site-packages (3.3.2)\n",
      "Requirement already satisfied: requests in c:\\users\\vahathi\\anaconda3\\lib\\site-packages (from vaderSentiment) (2.24.0)\n",
      "Requirement already satisfied: chardet<4,>=3.0.2 in c:\\users\\vahathi\\anaconda3\\lib\\site-packages (from requests->vaderSentiment) (3.0.4)\n",
      "Requirement already satisfied: urllib3!=1.25.0,!=1.25.1,<1.26,>=1.21.1 in c:\\users\\vahathi\\anaconda3\\lib\\site-packages (from requests->vaderSentiment) (1.25.11)\n",
      "Requirement already satisfied: certifi>=2017.4.17 in c:\\users\\vahathi\\anaconda3\\lib\\site-packages (from requests->vaderSentiment) (2020.6.20)\n",
      "Requirement already satisfied: idna<3,>=2.5 in c:\\users\\vahathi\\anaconda3\\lib\\site-packages (from requests->vaderSentiment) (2.10)\n",
      "Note: you may need to restart the kernel to use updated packages.\n"
     ]
    }
   ],
   "source": [
    "pip install vaderSentiment"
   ]
  },
  {
   "cell_type": "code",
   "execution_count": 171,
   "metadata": {
    "id": "VW9PT5d6ddYG"
   },
   "outputs": [],
   "source": [
    "import pandas as pd\n",
    "import numpy as np\n",
    "from textblob import TextBlob\n",
    "import re\n",
    "import nltk\n",
    "from vaderSentiment.vaderSentiment import SentimentIntensityAnalyzer"
   ]
  },
  {
   "cell_type": "markdown",
   "metadata": {
    "id": "MebPwgtgeGru"
   },
   "source": [
    "### Splitting data into training and testing dataset"
   ]
  },
  {
   "cell_type": "code",
   "execution_count": 172,
   "metadata": {
    "id": "nEgDAu0Gd7H5"
   },
   "outputs": [],
   "source": [
    "x=df3.drop('Date',axis=1)\n",
    "y=df3['Date']"
   ]
  },
  {
   "cell_type": "code",
   "execution_count": 173,
   "metadata": {
    "colab": {
     "base_uri": "https://localhost:8080/"
    },
    "id": "fAF2j0lAfO9E",
    "outputId": "cb17abd4-b134-4a6c-b315-2170cefe5543"
   },
   "outputs": [
    {
     "data": {
      "text/plain": [
       "2015-01-08    1\n",
       "2009-11-17    1\n",
       "2010-01-15    1\n",
       "2016-05-06    1\n",
       "2010-08-16    1\n",
       "             ..\n",
       "2012-08-13    1\n",
       "2014-04-29    1\n",
       "2015-09-16    1\n",
       "2013-05-21    1\n",
       "2013-11-04    1\n",
       "Name: Date, Length: 1989, dtype: int64"
      ]
     },
     "execution_count": 173,
     "metadata": {},
     "output_type": "execute_result"
    }
   ],
   "source": [
    "y.value_counts()"
   ]
  },
  {
   "cell_type": "code",
   "execution_count": 174,
   "metadata": {
    "colab": {
     "base_uri": "https://localhost:8080/"
    },
    "id": "HugGJM37fSh9",
    "outputId": "00082f1a-6e0e-4ff4-d1d4-5626aa255eb4"
   },
   "outputs": [
    {
     "data": {
      "text/plain": [
       "(1989, 6)"
      ]
     },
     "execution_count": 174,
     "metadata": {},
     "output_type": "execute_result"
    }
   ],
   "source": [
    "x.shape"
   ]
  },
  {
   "cell_type": "code",
   "execution_count": 175,
   "metadata": {
    "colab": {
     "base_uri": "https://localhost:8080/"
    },
    "id": "x0unhnpYfT94",
    "outputId": "5c5fa1be-27b7-49b6-d060-00b93807e27c"
   },
   "outputs": [
    {
     "data": {
      "text/plain": [
       "(1989,)"
      ]
     },
     "execution_count": 175,
     "metadata": {},
     "output_type": "execute_result"
    }
   ],
   "source": [
    "y.shape"
   ]
  },
  {
   "cell_type": "code",
   "execution_count": 176,
   "metadata": {
    "colab": {
     "base_uri": "https://localhost:8080/",
     "height": 206
    },
    "id": "w5Micb3tfVX_",
    "outputId": "67d705fa-ee3a-4b53-a8ff-916def1d4533"
   },
   "outputs": [
    {
     "data": {
      "text/html": [
       "<div>\n",
       "<style scoped>\n",
       "    .dataframe tbody tr th:only-of-type {\n",
       "        vertical-align: middle;\n",
       "    }\n",
       "\n",
       "    .dataframe tbody tr th {\n",
       "        vertical-align: top;\n",
       "    }\n",
       "\n",
       "    .dataframe thead th {\n",
       "        text-align: right;\n",
       "    }\n",
       "</style>\n",
       "<table border=\"1\" class=\"dataframe\">\n",
       "  <thead>\n",
       "    <tr style=\"text-align: right;\">\n",
       "      <th></th>\n",
       "      <th>Open</th>\n",
       "      <th>High</th>\n",
       "      <th>Low</th>\n",
       "      <th>Close</th>\n",
       "      <th>Volume</th>\n",
       "      <th>Adj Close</th>\n",
       "    </tr>\n",
       "  </thead>\n",
       "  <tbody>\n",
       "    <tr>\n",
       "      <th>0</th>\n",
       "      <td>17924.240234</td>\n",
       "      <td>18002.380859</td>\n",
       "      <td>17916.910156</td>\n",
       "      <td>17949.369141</td>\n",
       "      <td>82160000</td>\n",
       "      <td>17949.369141</td>\n",
       "    </tr>\n",
       "    <tr>\n",
       "      <th>1</th>\n",
       "      <td>17712.759766</td>\n",
       "      <td>17930.609375</td>\n",
       "      <td>17711.800781</td>\n",
       "      <td>17929.990234</td>\n",
       "      <td>133030000</td>\n",
       "      <td>17929.990234</td>\n",
       "    </tr>\n",
       "    <tr>\n",
       "      <th>2</th>\n",
       "      <td>17456.019531</td>\n",
       "      <td>17704.509766</td>\n",
       "      <td>17456.019531</td>\n",
       "      <td>17694.679688</td>\n",
       "      <td>106380000</td>\n",
       "      <td>17694.679688</td>\n",
       "    </tr>\n",
       "    <tr>\n",
       "      <th>3</th>\n",
       "      <td>17190.509766</td>\n",
       "      <td>17409.720703</td>\n",
       "      <td>17190.509766</td>\n",
       "      <td>17409.720703</td>\n",
       "      <td>112190000</td>\n",
       "      <td>17409.720703</td>\n",
       "    </tr>\n",
       "    <tr>\n",
       "      <th>4</th>\n",
       "      <td>17355.210938</td>\n",
       "      <td>17355.210938</td>\n",
       "      <td>17063.080078</td>\n",
       "      <td>17140.240234</td>\n",
       "      <td>138740000</td>\n",
       "      <td>17140.240234</td>\n",
       "    </tr>\n",
       "  </tbody>\n",
       "</table>\n",
       "</div>"
      ],
      "text/plain": [
       "           Open          High           Low         Close     Volume  \\\n",
       "0  17924.240234  18002.380859  17916.910156  17949.369141   82160000   \n",
       "1  17712.759766  17930.609375  17711.800781  17929.990234  133030000   \n",
       "2  17456.019531  17704.509766  17456.019531  17694.679688  106380000   \n",
       "3  17190.509766  17409.720703  17190.509766  17409.720703  112190000   \n",
       "4  17355.210938  17355.210938  17063.080078  17140.240234  138740000   \n",
       "\n",
       "      Adj Close  \n",
       "0  17949.369141  \n",
       "1  17929.990234  \n",
       "2  17694.679688  \n",
       "3  17409.720703  \n",
       "4  17140.240234  "
      ]
     },
     "execution_count": 176,
     "metadata": {},
     "output_type": "execute_result"
    }
   ],
   "source": [
    "x.head()"
   ]
  },
  {
   "cell_type": "code",
   "execution_count": 177,
   "metadata": {
    "colab": {
     "base_uri": "https://localhost:8080/"
    },
    "id": "Lq3wni-yfZkf",
    "outputId": "bd133d9c-edf5-4124-8b6b-658d4b07147b"
   },
   "outputs": [
    {
     "data": {
      "text/plain": [
       "0    2016-07-01\n",
       "1    2016-06-30\n",
       "2    2016-06-29\n",
       "3    2016-06-28\n",
       "4    2016-06-27\n",
       "Name: Date, dtype: object"
      ]
     },
     "execution_count": 177,
     "metadata": {},
     "output_type": "execute_result"
    }
   ],
   "source": [
    "y.head()"
   ]
  },
  {
   "cell_type": "markdown",
   "metadata": {
    "id": "SW9YPLCkfdLT"
   },
   "source": [
    "### SVM method"
   ]
  },
  {
   "cell_type": "code",
   "execution_count": 178,
   "metadata": {
    "id": "_28vaqC6faxw"
   },
   "outputs": [],
   "source": [
    "from sklearn.model_selection import train_test_split"
   ]
  },
  {
   "cell_type": "code",
   "execution_count": 179,
   "metadata": {
    "id": "M_kryF_Tfkqc"
   },
   "outputs": [],
   "source": [
    "x_train,x_test,y_train,y_test=train_test_split(x,y,test_size=0.2,random_state=0)"
   ]
  },
  {
   "cell_type": "code",
   "execution_count": 180,
   "metadata": {
    "colab": {
     "base_uri": "https://localhost:8080/"
    },
    "id": "_hzmuKBbfzH1",
    "outputId": "9dd3552d-acdf-43a9-c83f-ee579229b4ee"
   },
   "outputs": [
    {
     "data": {
      "text/plain": [
       "SVC(class_weight='balanced', kernel='poly')"
      ]
     },
     "execution_count": 180,
     "metadata": {},
     "output_type": "execute_result"
    }
   ],
   "source": [
    "from sklearn.svm import SVC\n",
    "svclassifier=SVC(kernel='poly',degree=3,class_weight='balanced')\n",
    "svclassifier.fit(x_train,y_train)"
   ]
  },
  {
   "cell_type": "code",
   "execution_count": 181,
   "metadata": {
    "id": "6wfbdpMKgOlq"
   },
   "outputs": [],
   "source": [
    "y_pred=svclassifier.predict(x_test)"
   ]
  },
  {
   "cell_type": "code",
   "execution_count": 182,
   "metadata": {
    "colab": {
     "base_uri": "https://localhost:8080/"
    },
    "id": "dVm8OP97gU_x",
    "outputId": "f3481bca-0e28-4b6d-848c-108881eedfee"
   },
   "outputs": [
    {
     "name": "stdout",
     "output_type": "stream",
     "text": [
      "[[0 0 0 ... 0 0 0]\n",
      " [0 0 0 ... 0 0 0]\n",
      " [0 0 0 ... 0 0 0]\n",
      " ...\n",
      " [0 0 0 ... 0 0 0]\n",
      " [0 0 0 ... 0 0 0]\n",
      " [0 0 0 ... 0 0 0]]\n"
     ]
    }
   ],
   "source": [
    "from sklearn.metrics import classification_report,confusion_matrix\n",
    "print(confusion_matrix(y_test,y_pred))"
   ]
  },
  {
   "cell_type": "code",
   "execution_count": 183,
   "metadata": {
    "colab": {
     "base_uri": "https://localhost:8080/"
    },
    "id": "auuL2iD7gjBF",
    "outputId": "4d81d61f-9409-41c9-a29a-2664ed57f9e6"
   },
   "outputs": [
    {
     "name": "stdout",
     "output_type": "stream",
     "text": [
      "              precision    recall  f1-score   support\n",
      "\n",
      "  2008-08-12       0.00      0.00      0.00       1.0\n",
      "  2008-08-14       0.00      0.00      0.00       0.0\n",
      "  2008-08-20       0.00      0.00      0.00       1.0\n",
      "  2008-08-21       0.00      0.00      0.00       1.0\n",
      "  2008-08-25       0.00      0.00      0.00       1.0\n",
      "  2008-09-04       0.00      0.00      0.00       1.0\n",
      "  2008-09-09       0.00      0.00      0.00       0.0\n",
      "  2008-09-16       0.00      0.00      0.00       0.0\n",
      "  2008-09-17       0.00      0.00      0.00       1.0\n",
      "  2008-09-19       0.00      0.00      0.00       0.0\n",
      "  2008-09-22       0.00      0.00      0.00       0.0\n",
      "  2008-09-23       0.00      0.00      0.00       0.0\n",
      "  2008-09-26       0.00      0.00      0.00       0.0\n",
      "  2008-10-01       0.00      0.00      0.00       0.0\n",
      "  2008-10-07       0.00      0.00      0.00       0.0\n",
      "  2008-10-08       0.00      0.00      0.00       1.0\n",
      "  2008-10-10       0.00      0.00      0.00       1.0\n",
      "  2008-10-17       0.00      0.00      0.00       0.0\n",
      "  2008-10-21       0.00      0.00      0.00       0.0\n",
      "  2008-10-22       0.00      0.00      0.00       1.0\n",
      "  2008-10-24       0.00      0.00      0.00       1.0\n",
      "  2008-11-04       0.00      0.00      0.00       1.0\n",
      "  2008-11-06       0.00      0.00      0.00       0.0\n",
      "  2008-11-07       0.00      0.00      0.00       0.0\n",
      "  2008-11-12       0.00      0.00      0.00       0.0\n",
      "  2008-11-13       0.00      0.00      0.00       0.0\n",
      "  2008-11-14       0.00      0.00      0.00       1.0\n",
      "  2008-11-18       0.00      0.00      0.00       1.0\n",
      "  2008-11-19       0.00      0.00      0.00       1.0\n",
      "  2008-11-25       0.00      0.00      0.00       1.0\n",
      "  2008-11-26       0.00      0.00      0.00       0.0\n",
      "  2008-11-28       0.00      0.00      0.00       0.0\n",
      "  2008-12-02       0.00      0.00      0.00       1.0\n",
      "  2008-12-10       0.00      0.00      0.00       1.0\n",
      "  2008-12-19       0.00      0.00      0.00       1.0\n",
      "  2008-12-23       0.00      0.00      0.00       0.0\n",
      "  2008-12-26       0.00      0.00      0.00       1.0\n",
      "  2008-12-29       0.00      0.00      0.00       1.0\n",
      "  2008-12-31       0.00      0.00      0.00       1.0\n",
      "  2009-01-05       0.00      0.00      0.00       1.0\n",
      "  2009-01-08       0.00      0.00      0.00       1.0\n",
      "  2009-01-09       0.00      0.00      0.00       1.0\n",
      "  2009-01-22       0.00      0.00      0.00       1.0\n",
      "  2009-02-03       0.00      0.00      0.00       0.0\n",
      "  2009-02-13       0.00      0.00      0.00       1.0\n",
      "  2009-02-19       0.00      0.00      0.00       0.0\n",
      "  2009-02-20       0.00      0.00      0.00       1.0\n",
      "  2009-02-26       0.00      0.00      0.00       1.0\n",
      "  2009-02-27       0.00      0.00      0.00       1.0\n",
      "  2009-03-03       0.00      0.00      0.00       0.0\n",
      "  2009-03-05       0.00      0.00      0.00       1.0\n",
      "  2009-03-09       0.00      0.00      0.00       0.0\n",
      "  2009-03-11       0.00      0.00      0.00       0.0\n",
      "  2009-03-13       0.00      0.00      0.00       0.0\n",
      "  2009-03-18       0.00      0.00      0.00       0.0\n",
      "  2009-03-19       0.00      0.00      0.00       0.0\n",
      "  2009-03-20       0.00      0.00      0.00       0.0\n",
      "  2009-03-23       0.00      0.00      0.00       1.0\n",
      "  2009-03-24       0.00      0.00      0.00       1.0\n",
      "  2009-03-25       0.00      0.00      0.00       0.0\n",
      "  2009-03-27       0.00      0.00      0.00       1.0\n",
      "  2009-03-31       0.00      0.00      0.00       0.0\n",
      "  2009-04-01       0.00      0.00      0.00       1.0\n",
      "  2009-04-02       0.00      0.00      0.00       1.0\n",
      "  2009-04-06       0.00      0.00      0.00       0.0\n",
      "  2009-04-09       0.00      0.00      0.00       0.0\n",
      "  2009-04-14       0.00      0.00      0.00       1.0\n",
      "  2009-04-23       0.00      0.00      0.00       1.0\n",
      "  2009-04-24       0.00      0.00      0.00       1.0\n",
      "  2009-05-04       0.00      0.00      0.00       0.0\n",
      "  2009-05-06       0.00      0.00      0.00       1.0\n",
      "  2009-05-07       0.00      0.00      0.00       1.0\n",
      "  2009-05-08       0.00      0.00      0.00       1.0\n",
      "  2009-05-13       0.00      0.00      0.00       0.0\n",
      "  2009-05-26       0.00      0.00      0.00       1.0\n",
      "  2009-05-29       0.00      0.00      0.00       1.0\n",
      "  2009-06-03       0.00      0.00      0.00       0.0\n",
      "  2009-06-05       0.00      0.00      0.00       1.0\n",
      "  2009-06-12       0.00      0.00      0.00       1.0\n",
      "  2009-06-16       0.00      0.00      0.00       0.0\n",
      "  2009-06-18       0.00      0.00      0.00       1.0\n",
      "  2009-06-26       0.00      0.00      0.00       0.0\n",
      "  2009-06-30       0.00      0.00      0.00       0.0\n",
      "  2009-07-14       0.00      0.00      0.00       0.0\n",
      "  2009-07-17       0.00      0.00      0.00       1.0\n",
      "  2009-07-21       0.00      0.00      0.00       0.0\n",
      "  2009-07-22       0.00      0.00      0.00       0.0\n",
      "  2009-07-28       0.00      0.00      0.00       0.0\n",
      "  2009-08-03       0.00      0.00      0.00       1.0\n",
      "  2009-08-05       0.00      0.00      0.00       1.0\n",
      "  2009-08-11       0.00      0.00      0.00       1.0\n",
      "  2009-08-17       0.00      0.00      0.00       0.0\n",
      "  2009-08-20       0.00      0.00      0.00       0.0\n",
      "  2009-08-25       0.00      0.00      0.00       1.0\n",
      "  2009-08-27       0.00      0.00      0.00       0.0\n",
      "  2009-08-31       0.00      0.00      0.00       0.0\n",
      "  2009-09-09       0.00      0.00      0.00       1.0\n",
      "  2009-09-17       0.00      0.00      0.00       1.0\n",
      "  2009-09-23       0.00      0.00      0.00       1.0\n",
      "  2009-09-24       0.00      0.00      0.00       0.0\n",
      "  2009-10-05       0.00      0.00      0.00       0.0\n",
      "  2009-10-19       0.00      0.00      0.00       1.0\n",
      "  2009-10-27       0.00      0.00      0.00       1.0\n",
      "  2009-10-28       0.00      0.00      0.00       1.0\n",
      "  2009-10-30       0.00      0.00      0.00       0.0\n",
      "  2009-11-03       0.00      0.00      0.00       1.0\n",
      "  2009-11-04       0.00      0.00      0.00       0.0\n",
      "  2009-11-06       0.00      0.00      0.00       0.0\n",
      "  2009-11-09       0.00      0.00      0.00       0.0\n",
      "  2009-11-12       0.00      0.00      0.00       1.0\n",
      "  2009-11-16       0.00      0.00      0.00       0.0\n",
      "  2009-11-23       0.00      0.00      0.00       0.0\n",
      "  2009-11-25       0.00      0.00      0.00       1.0\n",
      "  2009-12-01       0.00      0.00      0.00       0.0\n",
      "  2009-12-02       0.00      0.00      0.00       0.0\n",
      "  2009-12-09       0.00      0.00      0.00       0.0\n",
      "  2009-12-11       0.00      0.00      0.00       0.0\n",
      "  2009-12-21       0.00      0.00      0.00       0.0\n",
      "  2009-12-28       0.00      0.00      0.00       1.0\n",
      "  2009-12-30       0.00      0.00      0.00       1.0\n",
      "  2010-01-04       0.00      0.00      0.00       1.0\n",
      "  2010-01-06       0.00      0.00      0.00       0.0\n",
      "  2010-01-11       0.00      0.00      0.00       0.0\n",
      "  2010-01-13       0.00      0.00      0.00       1.0\n",
      "  2010-01-14       0.00      0.00      0.00       0.0\n",
      "  2010-01-15       0.00      0.00      0.00       1.0\n",
      "  2010-01-19       0.00      0.00      0.00       1.0\n",
      "  2010-01-21       0.00      0.00      0.00       1.0\n",
      "  2010-01-22       0.00      0.00      0.00       0.0\n",
      "  2010-01-29       0.00      0.00      0.00       0.0\n",
      "  2010-02-02       0.00      0.00      0.00       0.0\n",
      "  2010-02-03       0.00      0.00      0.00       1.0\n",
      "  2010-02-04       0.00      0.00      0.00       0.0\n",
      "  2010-02-09       0.00      0.00      0.00       0.0\n",
      "  2010-02-10       0.00      0.00      0.00       1.0\n",
      "  2010-02-17       0.00      0.00      0.00       0.0\n",
      "  2010-03-01       0.00      0.00      0.00       0.0\n",
      "  2010-03-04       0.00      0.00      0.00       0.0\n",
      "  2010-03-16       0.00      0.00      0.00       1.0\n",
      "  2010-03-19       0.00      0.00      0.00       0.0\n",
      "  2010-03-23       0.00      0.00      0.00       1.0\n",
      "  2010-03-31       0.00      0.00      0.00       0.0\n",
      "  2010-04-05       0.00      0.00      0.00       1.0\n",
      "  2010-04-06       0.00      0.00      0.00       1.0\n",
      "  2010-04-09       0.00      0.00      0.00       0.0\n",
      "  2010-04-16       0.00      0.00      0.00       0.0\n",
      "  2010-04-23       0.00      0.00      0.00       0.0\n",
      "  2010-04-28       0.00      0.00      0.00       1.0\n",
      "  2010-05-03       0.00      0.00      0.00       0.0\n",
      "  2010-05-05       0.00      0.00      0.00       1.0\n",
      "  2010-05-07       0.00      0.00      0.00       0.0\n",
      "  2010-05-10       0.00      0.00      0.00       1.0\n",
      "  2010-05-13       0.00      0.00      0.00       1.0\n",
      "  2010-05-17       0.00      0.00      0.00       1.0\n",
      "  2010-05-18       0.00      0.00      0.00       1.0\n",
      "  2010-05-25       0.00      0.00      0.00       1.0\n",
      "  2010-06-01       0.00      0.00      0.00       1.0\n",
      "  2010-06-04       0.00      0.00      0.00       1.0\n",
      "  2010-06-08       0.00      0.00      0.00       1.0\n",
      "  2010-06-10       0.00      0.00      0.00       0.0\n",
      "  2010-06-16       0.00      0.00      0.00       1.0\n",
      "  2010-06-17       0.00      0.00      0.00       1.0\n",
      "  2010-06-25       0.00      0.00      0.00       1.0\n",
      "  2010-07-08       0.00      0.00      0.00       0.0\n",
      "  2010-07-14       0.00      0.00      0.00       1.0\n",
      "  2010-07-16       0.00      0.00      0.00       0.0\n",
      "  2010-07-26       0.00      0.00      0.00       1.0\n",
      "  2010-07-27       0.00      0.00      0.00       1.0\n",
      "  2010-07-28       0.00      0.00      0.00       0.0\n",
      "  2010-08-05       0.00      0.00      0.00       0.0\n",
      "  2010-08-09       0.00      0.00      0.00       0.0\n",
      "  2010-08-11       0.00      0.00      0.00       0.0\n",
      "  2010-08-13       0.00      0.00      0.00       1.0\n",
      "  2010-08-16       0.00      0.00      0.00       1.0\n",
      "  2010-08-19       0.00      0.00      0.00       1.0\n",
      "  2010-08-27       0.00      0.00      0.00       1.0\n",
      "  2010-09-02       0.00      0.00      0.00       1.0\n",
      "  2010-09-09       0.00      0.00      0.00       0.0\n",
      "  2010-09-14       0.00      0.00      0.00       0.0\n",
      "  2010-09-16       0.00      0.00      0.00       1.0\n",
      "  2010-09-23       0.00      0.00      0.00       1.0\n",
      "  2010-09-28       0.00      0.00      0.00       0.0\n",
      "  2010-09-29       0.00      0.00      0.00       0.0\n",
      "  2010-10-06       0.00      0.00      0.00       1.0\n",
      "  2010-10-13       0.00      0.00      0.00       1.0\n",
      "  2010-10-20       0.00      0.00      0.00       0.0\n",
      "  2010-10-21       0.00      0.00      0.00       1.0\n",
      "  2010-10-22       0.00      0.00      0.00       1.0\n",
      "  2010-11-02       0.00      0.00      0.00       1.0\n",
      "  2010-11-04       0.00      0.00      0.00       0.0\n",
      "  2010-11-12       0.00      0.00      0.00       0.0\n",
      "  2010-11-19       0.00      0.00      0.00       1.0\n",
      "  2010-11-23       0.00      0.00      0.00       1.0\n",
      "  2010-11-30       0.00      0.00      0.00       0.0\n",
      "  2010-12-06       0.00      0.00      0.00       1.0\n",
      "  2010-12-09       0.00      0.00      0.00       1.0\n",
      "  2010-12-16       0.00      0.00      0.00       0.0\n",
      "  2010-12-21       0.00      0.00      0.00       0.0\n",
      "  2010-12-22       0.00      0.00      0.00       0.0\n",
      "  2010-12-27       0.00      0.00      0.00       1.0\n",
      "  2010-12-29       0.00      0.00      0.00       0.0\n",
      "  2010-12-30       0.00      0.00      0.00       0.0\n",
      "  2011-01-04       0.00      0.00      0.00       0.0\n",
      "  2011-01-05       0.00      0.00      0.00       0.0\n",
      "  2011-01-06       0.00      0.00      0.00       1.0\n",
      "  2011-01-07       0.00      0.00      0.00       1.0\n",
      "  2011-01-10       0.00      0.00      0.00       0.0\n",
      "  2011-01-19       0.00      0.00      0.00       1.0\n",
      "  2011-01-20       0.00      0.00      0.00       0.0\n",
      "  2011-02-01       0.00      0.00      0.00       1.0\n",
      "  2011-02-02       0.00      0.00      0.00       0.0\n",
      "  2011-02-03       0.00      0.00      0.00       1.0\n",
      "  2011-02-04       0.00      0.00      0.00       1.0\n",
      "  2011-02-07       0.00      0.00      0.00       0.0\n",
      "  2011-02-08       0.00      0.00      0.00       0.0\n",
      "  2011-02-09       0.00      0.00      0.00       1.0\n",
      "  2011-02-22       0.00      0.00      0.00       1.0\n",
      "  2011-02-24       0.00      0.00      0.00       0.0\n",
      "  2011-03-07       0.00      0.00      0.00       0.0\n",
      "  2011-03-08       0.00      0.00      0.00       0.0\n",
      "  2011-03-10       0.00      0.00      0.00       1.0\n",
      "  2011-03-15       0.00      0.00      0.00       1.0\n",
      "  2011-03-21       0.00      0.00      0.00       1.0\n",
      "  2011-03-23       0.00      0.00      0.00       1.0\n",
      "  2011-03-28       0.00      0.00      0.00       1.0\n",
      "  2011-03-31       0.00      0.00      0.00       0.0\n",
      "  2011-04-01       0.00      0.00      0.00       1.0\n",
      "  2011-04-05       0.00      0.00      0.00       0.0\n",
      "  2011-04-06       0.00      0.00      0.00       1.0\n",
      "  2011-04-07       0.00      0.00      0.00       1.0\n",
      "  2011-04-12       0.00      0.00      0.00       0.0\n",
      "  2011-04-15       0.00      0.00      0.00       1.0\n",
      "  2011-04-18       0.00      0.00      0.00       1.0\n",
      "  2011-04-19       0.00      0.00      0.00       0.0\n",
      "  2011-04-21       0.00      0.00      0.00       0.0\n",
      "  2011-04-25       0.00      0.00      0.00       0.0\n",
      "  2011-04-28       0.00      0.00      0.00       0.0\n",
      "  2011-05-02       0.00      0.00      0.00       1.0\n",
      "  2011-05-09       0.00      0.00      0.00       0.0\n",
      "  2011-05-13       0.00      0.00      0.00       1.0\n",
      "  2011-05-16       0.00      0.00      0.00       1.0\n",
      "  2011-05-17       0.00      0.00      0.00       0.0\n",
      "  2011-05-19       0.00      0.00      0.00       1.0\n",
      "  2011-05-20       0.00      0.00      0.00       1.0\n",
      "  2011-05-23       0.00      0.00      0.00       1.0\n",
      "  2011-05-24       0.00      0.00      0.00       1.0\n",
      "  2011-06-06       0.00      0.00      0.00       1.0\n",
      "  2011-06-08       0.00      0.00      0.00       1.0\n",
      "  2011-06-10       0.00      0.00      0.00       1.0\n",
      "  2011-06-21       0.00      0.00      0.00       0.0\n",
      "  2011-06-22       0.00      0.00      0.00       0.0\n",
      "  2011-06-29       0.00      0.00      0.00       1.0\n",
      "  2011-07-07       0.00      0.00      0.00       0.0\n",
      "  2011-07-08       0.00      0.00      0.00       1.0\n",
      "  2011-07-26       0.00      0.00      0.00       0.0\n",
      "  2011-07-28       0.00      0.00      0.00       1.0\n",
      "  2011-08-02       0.00      0.00      0.00       1.0\n",
      "  2011-08-03       0.00      0.00      0.00       1.0\n",
      "  2011-08-05       0.00      0.00      0.00       0.0\n",
      "  2011-08-15       0.00      0.00      0.00       0.0\n",
      "  2011-08-19       0.00      0.00      0.00       1.0\n",
      "  2011-08-22       0.00      0.00      0.00       0.0\n",
      "  2011-08-24       0.00      0.00      0.00       0.0\n",
      "  2011-08-25       0.00      0.00      0.00       0.0\n",
      "  2011-08-30       0.00      0.00      0.00       1.0\n",
      "  2011-08-31       0.00      0.00      0.00       0.0\n",
      "  2011-09-01       0.00      0.00      0.00       0.0\n",
      "  2011-09-02       0.00      0.00      0.00       1.0\n",
      "  2011-09-07       0.00      0.00      0.00       1.0\n",
      "  2011-09-20       0.00      0.00      0.00       0.0\n",
      "  2011-09-21       0.00      0.00      0.00       0.0\n",
      "  2011-09-26       0.00      0.00      0.00       1.0\n",
      "  2011-10-05       0.00      0.00      0.00       1.0\n",
      "  2011-10-07       0.00      0.00      0.00       1.0\n",
      "  2011-10-14       0.00      0.00      0.00       1.0\n",
      "  2011-10-18       0.00      0.00      0.00       1.0\n",
      "  2011-10-25       0.00      0.00      0.00       0.0\n",
      "  2011-10-26       0.00      0.00      0.00       0.0\n",
      "  2011-10-28       0.00      0.00      0.00       1.0\n",
      "  2011-10-31       0.00      0.00      0.00       1.0\n",
      "  2011-11-02       0.00      0.00      0.00       0.0\n",
      "  2011-11-04       0.00      0.00      0.00       1.0\n",
      "  2011-11-08       0.00      0.00      0.00       0.0\n",
      "  2011-11-14       0.00      0.00      0.00       0.0\n",
      "  2011-11-16       0.00      0.00      0.00       0.0\n",
      "  2011-11-17       0.00      0.00      0.00       1.0\n",
      "  2011-11-22       0.00      0.00      0.00       0.0\n",
      "  2011-11-25       0.00      0.00      0.00       0.0\n",
      "  2011-11-29       0.00      0.00      0.00       0.0\n",
      "  2011-12-01       0.00      0.00      0.00       0.0\n",
      "  2011-12-06       0.00      0.00      0.00       0.0\n",
      "  2011-12-15       0.00      0.00      0.00       0.0\n",
      "  2011-12-23       0.00      0.00      0.00       1.0\n",
      "  2011-12-27       0.00      0.00      0.00       0.0\n",
      "  2011-12-30       0.00      0.00      0.00       1.0\n",
      "  2012-01-05       0.00      0.00      0.00       0.0\n",
      "  2012-01-09       0.00      0.00      0.00       1.0\n",
      "  2012-01-10       0.00      0.00      0.00       1.0\n",
      "  2012-01-12       0.00      0.00      0.00       1.0\n",
      "  2012-01-17       0.00      0.00      0.00       1.0\n",
      "  2012-01-18       0.00      0.00      0.00       1.0\n",
      "  2012-01-25       0.00      0.00      0.00       1.0\n",
      "  2012-01-27       0.00      0.00      0.00       1.0\n",
      "  2012-02-03       0.00      0.00      0.00       1.0\n",
      "  2012-02-06       0.00      0.00      0.00       1.0\n",
      "  2012-02-07       0.00      0.00      0.00       0.0\n",
      "  2012-02-09       0.00      0.00      0.00       1.0\n",
      "  2012-02-17       0.00      0.00      0.00       1.0\n",
      "  2012-02-28       0.00      0.00      0.00       1.0\n",
      "  2012-03-01       0.00      0.00      0.00       1.0\n",
      "  2012-03-05       0.00      0.00      0.00       0.0\n",
      "  2012-03-06       0.00      0.00      0.00       1.0\n",
      "  2012-03-07       0.00      0.00      0.00       0.0\n",
      "  2012-03-13       0.00      0.00      0.00       1.0\n",
      "  2012-03-14       0.00      0.00      0.00       0.0\n",
      "  2012-03-21       0.00      0.00      0.00       0.0\n",
      "  2012-03-22       0.00      0.00      0.00       0.0\n",
      "  2012-03-26       0.00      0.00      0.00       1.0\n",
      "  2012-03-27       0.00      0.00      0.00       1.0\n",
      "  2012-04-02       0.00      0.00      0.00       1.0\n",
      "  2012-04-03       0.00      0.00      0.00       0.0\n",
      "  2012-04-05       0.00      0.00      0.00       0.0\n",
      "  2012-04-10       0.00      0.00      0.00       1.0\n",
      "  2012-04-11       0.00      0.00      0.00       0.0\n",
      "  2012-04-18       0.00      0.00      0.00       0.0\n",
      "  2012-04-19       0.00      0.00      0.00       0.0\n",
      "  2012-05-03       0.00      0.00      0.00       1.0\n",
      "  2012-05-07       0.00      0.00      0.00       0.0\n",
      "  2012-05-10       0.00      0.00      0.00       1.0\n",
      "  2012-05-16       0.00      0.00      0.00       0.0\n",
      "  2012-05-18       0.00      0.00      0.00       1.0\n",
      "  2012-05-22       0.00      0.00      0.00       0.0\n",
      "  2012-05-24       0.00      0.00      0.00       1.0\n",
      "  2012-05-25       0.00      0.00      0.00       1.0\n",
      "  2012-06-01       0.00      0.00      0.00       0.0\n",
      "  2012-06-04       0.00      0.00      0.00       1.0\n",
      "  2012-06-07       0.00      0.00      0.00       0.0\n",
      "  2012-06-14       0.00      0.00      0.00       1.0\n",
      "  2012-06-15       0.00      0.00      0.00       1.0\n",
      "  2012-06-18       0.00      0.00      0.00       0.0\n",
      "  2012-06-19       0.00      0.00      0.00       1.0\n",
      "  2012-07-05       0.00      0.00      0.00       0.0\n",
      "  2012-07-06       0.00      0.00      0.00       0.0\n",
      "  2012-07-09       0.00      0.00      0.00       1.0\n",
      "  2012-07-12       0.00      0.00      0.00       0.0\n",
      "  2012-07-17       0.00      0.00      0.00       1.0\n",
      "  2012-07-18       0.00      0.00      0.00       0.0\n",
      "  2012-07-19       0.00      0.00      0.00       0.0\n",
      "  2012-07-26       0.00      0.00      0.00       1.0\n",
      "  2012-08-08       0.00      0.00      0.00       1.0\n",
      "  2012-08-10       0.00      0.00      0.00       0.0\n",
      "  2012-08-13       0.00      0.00      0.00       1.0\n",
      "  2012-08-16       0.00      0.00      0.00       1.0\n",
      "  2012-08-22       0.00      0.00      0.00       1.0\n",
      "  2012-08-23       0.00      0.00      0.00       0.0\n",
      "  2012-08-24       0.00      0.00      0.00       0.0\n",
      "  2012-09-04       0.00      0.00      0.00       1.0\n",
      "  2012-09-05       0.00      0.00      0.00       1.0\n",
      "  2012-09-06       0.00      0.00      0.00       1.0\n",
      "  2012-09-11       0.00      0.00      0.00       1.0\n",
      "  2012-09-13       0.00      0.00      0.00       1.0\n",
      "  2012-09-14       0.00      0.00      0.00       0.0\n",
      "  2012-10-04       0.00      0.00      0.00       1.0\n",
      "  2012-10-10       0.00      0.00      0.00       1.0\n",
      "  2012-10-11       0.00      0.00      0.00       1.0\n",
      "  2012-10-17       0.00      0.00      0.00       0.0\n",
      "  2012-10-18       0.00      0.00      0.00       1.0\n",
      "  2012-10-19       0.00      0.00      0.00       0.0\n",
      "  2012-10-22       0.00      0.00      0.00       0.0\n",
      "  2012-10-23       0.00      0.00      0.00       1.0\n",
      "  2012-10-25       0.00      0.00      0.00       0.0\n",
      "  2012-11-02       0.00      0.00      0.00       1.0\n",
      "  2012-11-14       0.00      0.00      0.00       1.0\n",
      "  2012-11-16       0.00      0.00      0.00       1.0\n",
      "  2012-11-28       0.00      0.00      0.00       0.0\n",
      "  2012-12-04       0.00      0.00      0.00       1.0\n",
      "  2012-12-06       0.00      0.00      0.00       1.0\n",
      "  2012-12-13       0.00      0.00      0.00       1.0\n",
      "  2012-12-14       0.00      0.00      0.00       1.0\n",
      "  2012-12-17       0.00      0.00      0.00       1.0\n",
      "  2012-12-24       0.00      0.00      0.00       0.0\n",
      "  2012-12-27       0.00      0.00      0.00       0.0\n",
      "  2012-12-28       0.00      0.00      0.00       1.0\n",
      "  2013-01-02       0.00      0.00      0.00       1.0\n",
      "  2013-01-03       0.00      0.00      0.00       1.0\n",
      "  2013-01-09       0.00      0.00      0.00       0.0\n",
      "  2013-01-10       0.00      0.00      0.00       1.0\n",
      "  2013-01-15       0.00      0.00      0.00       0.0\n",
      "  2013-01-18       0.00      0.00      0.00       0.0\n",
      "  2013-01-23       0.00      0.00      0.00       0.0\n",
      "  2013-01-24       0.00      0.00      0.00       1.0\n",
      "  2013-01-29       0.00      0.00      0.00       1.0\n",
      "  2013-01-30       0.00      0.00      0.00       1.0\n",
      "  2013-02-01       0.00      0.00      0.00       0.0\n",
      "  2013-02-12       0.00      0.00      0.00       0.0\n",
      "  2013-03-05       0.00      0.00      0.00       1.0\n",
      "  2013-03-06       0.00      0.00      0.00       0.0\n",
      "  2013-03-15       0.00      0.00      0.00       1.0\n",
      "  2013-03-25       0.00      0.00      0.00       1.0\n",
      "  2013-03-27       0.00      0.00      0.00       0.0\n",
      "  2013-04-02       0.00      0.00      0.00       1.0\n",
      "  2013-04-03       0.00      0.00      0.00       0.0\n",
      "  2013-04-16       0.00      0.00      0.00       1.0\n",
      "  2013-04-17       0.00      0.00      0.00       0.0\n",
      "  2013-04-23       0.00      0.00      0.00       1.0\n",
      "  2013-04-29       0.00      0.00      0.00       1.0\n",
      "  2013-05-06       0.00      0.00      0.00       0.0\n",
      "  2013-05-08       0.00      0.00      0.00       1.0\n",
      "  2013-05-09       0.00      0.00      0.00       1.0\n",
      "  2013-05-15       0.00      0.00      0.00       1.0\n",
      "  2013-05-20       0.00      0.00      0.00       0.0\n",
      "  2013-05-28       0.00      0.00      0.00       1.0\n",
      "  2013-05-30       0.00      0.00      0.00       0.0\n",
      "  2013-06-04       0.00      0.00      0.00       1.0\n",
      "  2013-06-05       0.00      0.00      0.00       1.0\n",
      "  2013-06-07       0.00      0.00      0.00       1.0\n",
      "  2013-06-12       0.00      0.00      0.00       0.0\n",
      "  2013-06-13       0.00      0.00      0.00       1.0\n",
      "  2013-06-14       0.00      0.00      0.00       1.0\n",
      "  2013-06-21       0.00      0.00      0.00       0.0\n",
      "  2013-06-24       0.00      0.00      0.00       1.0\n",
      "  2013-06-25       0.00      0.00      0.00       0.0\n",
      "  2013-07-05       0.00      0.00      0.00       0.0\n",
      "  2013-07-11       0.00      0.00      0.00       0.0\n",
      "  2013-07-17       0.00      0.00      0.00       1.0\n",
      "  2013-07-19       0.00      0.00      0.00       1.0\n",
      "  2013-07-22       0.00      0.00      0.00       0.0\n",
      "  2013-07-23       0.00      0.00      0.00       0.0\n",
      "  2013-07-25       0.00      0.00      0.00       1.0\n",
      "  2013-08-07       0.00      0.00      0.00       1.0\n",
      "  2013-08-14       0.00      0.00      0.00       1.0\n",
      "  2013-08-15       0.00      0.00      0.00       0.0\n",
      "  2013-08-16       0.00      0.00      0.00       0.0\n",
      "  2013-08-19       0.00      0.00      0.00       1.0\n",
      "  2013-08-20       0.00      0.00      0.00       0.0\n",
      "  2013-08-22       0.00      0.00      0.00       0.0\n",
      "  2013-08-28       0.00      0.00      0.00       1.0\n",
      "  2013-09-03       0.00      0.00      0.00       1.0\n",
      "  2013-09-05       0.00      0.00      0.00       1.0\n",
      "  2013-09-10       0.00      0.00      0.00       1.0\n",
      "  2013-09-11       0.00      0.00      0.00       0.0\n",
      "  2013-09-16       0.00      0.00      0.00       1.0\n",
      "  2013-09-17       0.00      0.00      0.00       0.0\n",
      "  2013-09-20       0.00      0.00      0.00       0.0\n",
      "  2013-09-25       0.00      0.00      0.00       0.0\n",
      "  2013-10-02       0.00      0.00      0.00       1.0\n",
      "  2013-10-07       0.00      0.00      0.00       1.0\n",
      "  2013-10-09       0.00      0.00      0.00       1.0\n",
      "  2013-10-10       0.00      0.00      0.00       1.0\n",
      "  2013-10-16       0.00      0.00      0.00       1.0\n",
      "  2013-10-22       0.00      0.00      0.00       0.0\n",
      "  2013-10-23       0.00      0.00      0.00       1.0\n",
      "  2013-10-24       0.00      0.00      0.00       1.0\n",
      "  2013-10-28       0.00      0.00      0.00       1.0\n",
      "  2013-10-30       0.00      0.00      0.00       1.0\n",
      "  2013-11-06       0.00      0.00      0.00       1.0\n",
      "  2013-11-08       0.00      0.00      0.00       0.0\n",
      "  2013-11-11       0.00      0.00      0.00       0.0\n",
      "  2013-11-12       0.00      0.00      0.00       0.0\n",
      "  2013-11-14       0.00      0.00      0.00       0.0\n",
      "  2013-11-15       0.00      0.00      0.00       0.0\n",
      "  2013-11-19       0.00      0.00      0.00       0.0\n",
      "  2013-11-22       0.00      0.00      0.00       1.0\n",
      "  2013-11-25       0.00      0.00      0.00       1.0\n",
      "  2013-11-29       0.00      0.00      0.00       1.0\n",
      "  2013-12-02       0.00      0.00      0.00       0.0\n",
      "  2013-12-03       0.00      0.00      0.00       0.0\n",
      "  2013-12-04       0.00      0.00      0.00       1.0\n",
      "  2013-12-18       0.00      0.00      0.00       0.0\n",
      "  2013-12-24       0.00      0.00      0.00       1.0\n",
      "  2013-12-27       0.00      0.00      0.00       1.0\n",
      "  2013-12-31       0.00      0.00      0.00       0.0\n",
      "  2014-01-02       0.00      0.00      0.00       1.0\n",
      "  2014-01-06       0.00      0.00      0.00       0.0\n",
      "  2014-01-08       0.00      0.00      0.00       0.0\n",
      "  2014-01-13       0.00      0.00      0.00       0.0\n",
      "  2014-01-14       0.00      0.00      0.00       1.0\n",
      "  2014-01-15       0.00      0.00      0.00       1.0\n",
      "  2014-01-16       0.00      0.00      0.00       1.0\n",
      "  2014-01-17       0.00      0.00      0.00       1.0\n",
      "  2014-01-22       0.00      0.00      0.00       1.0\n",
      "  2014-01-31       0.00      0.00      0.00       1.0\n",
      "  2014-02-03       0.00      0.00      0.00       0.0\n",
      "  2014-02-05       0.00      0.00      0.00       0.0\n",
      "  2014-02-11       0.00      0.00      0.00       1.0\n",
      "  2014-02-20       0.00      0.00      0.00       1.0\n",
      "  2014-02-26       0.00      0.00      0.00       0.0\n",
      "  2014-03-03       0.00      0.00      0.00       0.0\n",
      "  2014-03-05       0.00      0.00      0.00       1.0\n",
      "  2014-03-12       0.00      0.00      0.00       0.0\n",
      "  2014-03-17       0.00      0.00      0.00       1.0\n",
      "  2014-03-18       0.00      0.00      0.00       1.0\n",
      "  2014-03-21       0.00      0.00      0.00       1.0\n",
      "  2014-03-25       0.00      0.00      0.00       0.0\n",
      "  2014-03-26       0.00      0.00      0.00       1.0\n",
      "  2014-04-01       0.00      0.00      0.00       1.0\n",
      "  2014-04-07       0.00      0.00      0.00       1.0\n",
      "  2014-04-08       0.00      0.00      0.00       1.0\n",
      "  2014-04-15       0.00      0.00      0.00       1.0\n",
      "  2014-04-16       0.00      0.00      0.00       1.0\n",
      "  2014-04-21       0.00      0.00      0.00       0.0\n",
      "  2014-04-23       0.00      0.00      0.00       1.0\n",
      "  2014-04-25       0.00      0.00      0.00       0.0\n",
      "  2014-04-29       0.00      0.00      0.00       0.0\n",
      "  2014-04-30       0.00      0.00      0.00       0.0\n",
      "  2014-05-05       0.00      0.00      0.00       0.0\n",
      "  2014-05-12       0.00      0.00      0.00       0.0\n",
      "  2014-05-14       0.00      0.00      0.00       0.0\n",
      "  2014-05-16       0.00      0.00      0.00       1.0\n",
      "  2014-05-20       0.00      0.00      0.00       0.0\n",
      "  2014-05-21       0.00      0.00      0.00       0.0\n",
      "  2014-05-22       0.00      0.00      0.00       1.0\n",
      "  2014-05-27       0.00      0.00      0.00       1.0\n",
      "  2014-06-04       0.00      0.00      0.00       0.0\n",
      "  2014-06-06       0.00      0.00      0.00       1.0\n",
      "  2014-06-09       0.00      0.00      0.00       1.0\n",
      "  2014-06-11       0.00      0.00      0.00       1.0\n",
      "  2014-06-12       0.00      0.00      0.00       1.0\n",
      "  2014-06-13       0.00      0.00      0.00       1.0\n",
      "  2014-06-16       0.00      0.00      0.00       1.0\n",
      "  2014-06-20       0.00      0.00      0.00       1.0\n",
      "  2014-06-23       0.00      0.00      0.00       1.0\n",
      "  2014-06-25       0.00      0.00      0.00       0.0\n",
      "  2014-06-26       0.00      0.00      0.00       0.0\n",
      "  2014-06-27       0.00      0.00      0.00       0.0\n",
      "  2014-06-30       0.00      0.00      0.00       1.0\n",
      "  2014-07-08       0.00      0.00      0.00       1.0\n",
      "  2014-07-09       0.00      0.00      0.00       0.0\n",
      "  2014-07-10       0.00      0.00      0.00       0.0\n",
      "  2014-07-22       0.00      0.00      0.00       1.0\n",
      "  2014-07-24       0.00      0.00      0.00       1.0\n",
      "  2014-07-28       0.00      0.00      0.00       1.0\n",
      "  2014-07-29       0.00      0.00      0.00       0.0\n",
      "  2014-07-30       0.00      0.00      0.00       1.0\n",
      "  2014-07-31       0.00      0.00      0.00       0.0\n",
      "  2014-08-01       0.00      0.00      0.00       0.0\n",
      "  2014-08-05       0.00      0.00      0.00       1.0\n",
      "  2014-08-07       0.00      0.00      0.00       1.0\n",
      "  2014-08-12       0.00      0.00      0.00       0.0\n",
      "  2014-08-13       0.00      0.00      0.00       0.0\n",
      "  2014-08-15       0.00      0.00      0.00       0.0\n",
      "  2014-08-20       0.00      0.00      0.00       0.0\n",
      "  2014-09-03       0.00      0.00      0.00       1.0\n",
      "  2014-09-05       0.00      0.00      0.00       1.0\n",
      "  2014-09-08       0.00      0.00      0.00       1.0\n",
      "  2014-09-09       0.00      0.00      0.00       1.0\n",
      "  2014-09-15       0.00      0.00      0.00       1.0\n",
      "  2014-09-16       0.00      0.00      0.00       1.0\n",
      "  2014-09-19       0.00      0.00      0.00       0.0\n",
      "  2014-09-24       0.00      0.00      0.00       1.0\n",
      "  2014-09-29       0.00      0.00      0.00       1.0\n",
      "  2014-10-02       0.00      0.00      0.00       1.0\n",
      "  2014-10-06       0.00      0.00      0.00       1.0\n",
      "  2014-10-08       0.00      0.00      0.00       1.0\n",
      "  2014-10-21       0.00      0.00      0.00       1.0\n",
      "  2014-10-24       0.00      0.00      0.00       0.0\n",
      "  2014-10-27       0.00      0.00      0.00       0.0\n",
      "  2014-11-03       0.00      0.00      0.00       0.0\n",
      "  2014-11-13       0.00      0.00      0.00       0.0\n",
      "  2014-11-20       0.00      0.00      0.00       1.0\n",
      "  2014-11-25       0.00      0.00      0.00       1.0\n",
      "  2014-12-01       0.00      0.00      0.00       1.0\n",
      "  2014-12-03       0.00      0.00      0.00       0.0\n",
      "  2014-12-09       0.00      0.00      0.00       1.0\n",
      "  2014-12-12       0.00      0.00      0.00       1.0\n",
      "  2014-12-18       0.00      0.00      0.00       1.0\n",
      "  2014-12-19       0.00      0.00      0.00       1.0\n",
      "  2014-12-22       0.00      0.00      0.00       1.0\n",
      "  2014-12-30       0.00      0.00      0.00       1.0\n",
      "  2015-01-05       0.00      0.00      0.00       1.0\n",
      "  2015-01-07       0.00      0.00      0.00       0.0\n",
      "  2015-01-08       0.00      0.00      0.00       0.0\n",
      "  2015-01-13       0.00      0.00      0.00       0.0\n",
      "  2015-01-15       0.00      0.00      0.00       0.0\n",
      "  2015-01-21       0.00      0.00      0.00       0.0\n",
      "  2015-01-27       0.00      0.00      0.00       1.0\n",
      "  2015-01-28       0.00      0.00      0.00       1.0\n",
      "  2015-02-02       0.00      0.00      0.00       0.0\n",
      "  2015-02-05       0.00      0.00      0.00       0.0\n",
      "  2015-02-06       0.00      0.00      0.00       1.0\n",
      "  2015-02-19       0.00      0.00      0.00       0.0\n",
      "  2015-02-24       0.00      0.00      0.00       1.0\n",
      "  2015-02-27       0.00      0.00      0.00       0.0\n",
      "  2015-03-02       0.00      0.00      0.00       0.0\n",
      "  2015-03-04       0.00      0.00      0.00       0.0\n",
      "  2015-03-05       0.00      0.00      0.00       0.0\n",
      "  2015-03-09       0.00      0.00      0.00       1.0\n",
      "  2015-03-18       0.00      0.00      0.00       1.0\n",
      "  2015-03-23       0.00      0.00      0.00       0.0\n",
      "  2015-03-24       0.00      0.00      0.00       1.0\n",
      "  2015-03-25       0.00      0.00      0.00       0.0\n",
      "  2015-03-27       0.00      0.00      0.00       0.0\n",
      "  2015-03-31       0.00      0.00      0.00       1.0\n",
      "  2015-04-02       0.00      0.00      0.00       0.0\n",
      "  2015-04-08       0.00      0.00      0.00       0.0\n",
      "  2015-04-09       0.00      0.00      0.00       0.0\n",
      "  2015-04-10       0.00      0.00      0.00       1.0\n",
      "  2015-04-20       0.00      0.00      0.00       0.0\n",
      "  2015-04-21       0.00      0.00      0.00       1.0\n",
      "  2015-04-23       0.00      0.00      0.00       0.0\n",
      "  2015-04-28       0.00      0.00      0.00       1.0\n",
      "  2015-04-29       0.00      0.00      0.00       0.0\n",
      "  2015-04-30       0.00      0.00      0.00       0.0\n",
      "  2015-05-04       0.00      0.00      0.00       1.0\n",
      "  2015-05-06       0.00      0.00      0.00       0.0\n",
      "  2015-05-07       0.00      0.00      0.00       0.0\n",
      "  2015-05-11       0.00      0.00      0.00       1.0\n",
      "  2015-05-12       0.00      0.00      0.00       0.0\n",
      "  2015-05-15       0.00      0.00      0.00       0.0\n",
      "  2015-05-19       0.00      0.00      0.00       0.0\n",
      "  2015-05-26       0.00      0.00      0.00       1.0\n",
      "  2015-05-27       0.00      0.00      0.00       1.0\n",
      "  2015-05-29       0.00      0.00      0.00       1.0\n",
      "  2015-06-02       0.00      0.00      0.00       0.0\n",
      "  2015-06-12       0.00      0.00      0.00       0.0\n",
      "  2015-06-16       0.00      0.00      0.00       1.0\n",
      "  2015-06-18       0.00      0.00      0.00       1.0\n",
      "  2015-06-22       0.00      0.00      0.00       1.0\n",
      "  2015-06-23       0.00      0.00      0.00       1.0\n",
      "  2015-06-30       0.00      0.00      0.00       1.0\n",
      "  2015-07-08       0.00      0.00      0.00       1.0\n",
      "  2015-07-10       0.00      0.00      0.00       0.0\n",
      "  2015-07-13       0.00      0.00      0.00       0.0\n",
      "  2015-07-15       0.00      0.00      0.00       0.0\n",
      "  2015-07-21       0.00      0.00      0.00       1.0\n",
      "  2015-07-30       0.00      0.00      0.00       1.0\n",
      "  2015-08-05       0.00      0.00      0.00       1.0\n",
      "  2015-08-06       0.00      0.00      0.00       0.0\n",
      "  2015-08-07       0.00      0.00      0.00       1.0\n",
      "  2015-08-13       0.00      0.00      0.00       1.0\n",
      "  2015-08-18       0.00      0.00      0.00       1.0\n",
      "  2015-08-21       0.00      0.00      0.00       1.0\n",
      "  2015-08-25       0.00      0.00      0.00       1.0\n",
      "  2015-08-26       0.00      0.00      0.00       0.0\n",
      "  2015-08-31       0.00      0.00      0.00       0.0\n",
      "  2015-09-01       0.00      0.00      0.00       0.0\n",
      "  2015-09-02       0.00      0.00      0.00       0.0\n",
      "  2015-09-08       0.00      0.00      0.00       1.0\n",
      "  2015-09-11       0.00      0.00      0.00       0.0\n",
      "  2015-09-14       0.00      0.00      0.00       1.0\n",
      "  2015-09-16       0.00      0.00      0.00       1.0\n",
      "  2015-09-23       0.00      0.00      0.00       0.0\n",
      "  2015-09-24       0.00      0.00      0.00       0.0\n",
      "  2015-09-25       0.00      0.00      0.00       0.0\n",
      "  2015-09-29       0.00      0.00      0.00       1.0\n",
      "  2015-10-05       0.00      0.00      0.00       1.0\n",
      "  2015-10-07       0.00      0.00      0.00       0.0\n",
      "  2015-10-12       0.00      0.00      0.00       1.0\n",
      "  2015-10-21       0.00      0.00      0.00       1.0\n",
      "  2015-10-26       0.00      0.00      0.00       0.0\n",
      "  2015-11-06       0.00      0.00      0.00       0.0\n",
      "  2015-11-10       0.00      0.00      0.00       1.0\n",
      "  2015-11-11       0.00      0.00      0.00       0.0\n",
      "  2015-11-13       0.00      0.00      0.00       0.0\n",
      "  2015-11-17       0.00      0.00      0.00       1.0\n",
      "  2015-11-23       0.00      0.00      0.00       1.0\n",
      "  2015-11-30       0.00      0.00      0.00       1.0\n",
      "  2015-12-03       0.00      0.00      0.00       1.0\n",
      "  2015-12-04       0.00      0.00      0.00       1.0\n",
      "  2015-12-07       0.00      0.00      0.00       0.0\n",
      "  2015-12-09       0.00      0.00      0.00       1.0\n",
      "  2015-12-14       0.00      0.00      0.00       0.0\n",
      "  2015-12-17       0.00      0.00      0.00       1.0\n",
      "  2015-12-21       0.00      0.00      0.00       1.0\n",
      "  2015-12-23       0.00      0.00      0.00       0.0\n",
      "  2015-12-24       0.00      0.00      0.00       0.0\n",
      "  2015-12-29       0.00      0.00      0.00       0.0\n",
      "  2016-01-05       0.00      0.00      0.00       1.0\n",
      "  2016-01-07       0.00      0.00      0.00       1.0\n",
      "  2016-01-13       0.00      0.00      0.00       1.0\n",
      "  2016-01-21       0.00      0.00      0.00       1.0\n",
      "  2016-01-26       0.00      0.00      0.00       0.0\n",
      "  2016-01-29       0.00      0.00      0.00       1.0\n",
      "  2016-02-01       0.00      0.00      0.00       0.0\n",
      "  2016-02-02       0.00      0.00      0.00       0.0\n",
      "  2016-02-09       0.00      0.00      0.00       0.0\n",
      "  2016-02-18       0.00      0.00      0.00       0.0\n",
      "  2016-02-19       0.00      0.00      0.00       0.0\n",
      "  2016-02-22       0.00      0.00      0.00       1.0\n",
      "  2016-02-24       0.00      0.00      0.00       0.0\n",
      "  2016-02-26       0.00      0.00      0.00       0.0\n",
      "  2016-02-29       0.00      0.00      0.00       0.0\n",
      "  2016-03-02       0.00      0.00      0.00       1.0\n",
      "  2016-03-04       0.00      0.00      0.00       0.0\n",
      "  2016-03-07       0.00      0.00      0.00       1.0\n",
      "  2016-03-09       0.00      0.00      0.00       1.0\n",
      "  2016-03-10       0.00      0.00      0.00       0.0\n",
      "  2016-03-14       0.00      0.00      0.00       1.0\n",
      "  2016-03-15       0.00      0.00      0.00       1.0\n",
      "  2016-03-18       0.00      0.00      0.00       0.0\n",
      "  2016-03-30       0.00      0.00      0.00       1.0\n",
      "  2016-04-06       0.00      0.00      0.00       1.0\n",
      "  2016-04-11       0.00      0.00      0.00       1.0\n",
      "  2016-04-12       0.00      0.00      0.00       0.0\n",
      "  2016-04-14       0.00      0.00      0.00       1.0\n",
      "  2016-04-15       0.00      0.00      0.00       1.0\n",
      "  2016-04-18       0.00      0.00      0.00       1.0\n",
      "  2016-04-19       0.00      0.00      0.00       1.0\n",
      "  2016-04-25       0.00      0.00      0.00       1.0\n",
      "  2016-04-26       0.00      0.00      0.00       1.0\n",
      "  2016-04-28       0.00      0.00      0.00       0.0\n",
      "  2016-05-03       0.00      0.00      0.00       0.0\n",
      "  2016-05-06       0.00      0.00      0.00       1.0\n",
      "  2016-05-10       0.00      0.00      0.00       1.0\n",
      "  2016-05-12       0.00      0.00      0.00       0.0\n",
      "  2016-05-13       0.00      0.00      0.00       1.0\n",
      "  2016-05-16       0.00      0.00      0.00       0.0\n",
      "  2016-05-19       0.00      0.00      0.00       1.0\n",
      "  2016-05-24       0.00      0.00      0.00       1.0\n",
      "  2016-05-25       0.00      0.00      0.00       0.0\n",
      "  2016-05-26       0.00      0.00      0.00       0.0\n",
      "  2016-05-27       0.00      0.00      0.00       0.0\n",
      "  2016-06-02       0.00      0.00      0.00       0.0\n",
      "  2016-06-06       0.00      0.00      0.00       1.0\n",
      "  2016-06-07       0.00      0.00      0.00       1.0\n",
      "  2016-06-08       0.00      0.00      0.00       1.0\n",
      "  2016-06-13       0.00      0.00      0.00       1.0\n",
      "  2016-06-20       0.00      0.00      0.00       1.0\n",
      "  2016-06-23       0.00      0.00      0.00       1.0\n",
      "  2016-06-24       0.00      0.00      0.00       1.0\n",
      "  2016-06-28       0.00      0.00      0.00       0.0\n",
      "  2016-06-29       0.00      0.00      0.00       0.0\n",
      "  2016-06-30       0.00      0.00      0.00       1.0\n",
      "\n",
      "    accuracy                           0.00     398.0\n",
      "   macro avg       0.00      0.00      0.00     398.0\n",
      "weighted avg       0.00      0.00      0.00     398.0\n",
      "\n"
     ]
    },
    {
     "name": "stderr",
     "output_type": "stream",
     "text": [
      "C:\\Users\\vahathi\\anaconda3\\lib\\site-packages\\sklearn\\metrics\\_classification.py:1221: UndefinedMetricWarning: Precision and F-score are ill-defined and being set to 0.0 in labels with no predicted samples. Use `zero_division` parameter to control this behavior.\n",
      "  _warn_prf(average, modifier, msg_start, len(result))\n",
      "C:\\Users\\vahathi\\anaconda3\\lib\\site-packages\\sklearn\\metrics\\_classification.py:1221: UndefinedMetricWarning: Recall and F-score are ill-defined and being set to 0.0 in labels with no true samples. Use `zero_division` parameter to control this behavior.\n",
      "  _warn_prf(average, modifier, msg_start, len(result))\n"
     ]
    }
   ],
   "source": [
    "print(classification_report(y_test,y_pred))"
   ]
  },
  {
   "cell_type": "code",
   "execution_count": null,
   "metadata": {
    "id": "aUWU1dCFgpBv"
   },
   "outputs": [],
   "source": []
  }
 ],
 "metadata": {
  "colab": {
   "collapsed_sections": [],
   "name": "Untitled3.ipynb",
   "provenance": []
  },
  "kernelspec": {
   "display_name": "Python 3",
   "language": "python",
   "name": "python3"
  },
  "language_info": {
   "codemirror_mode": {
    "name": "ipython",
    "version": 3
   },
   "file_extension": ".py",
   "mimetype": "text/x-python",
   "name": "python",
   "nbconvert_exporter": "python",
   "pygments_lexer": "ipython3",
   "version": "3.8.5"
  }
 },
 "nbformat": 4,
 "nbformat_minor": 1
}
